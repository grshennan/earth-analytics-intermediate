{
 "cells": [
  {
   "cell_type": "markdown",
   "id": "resistant-massage",
   "metadata": {},
   "source": [
    "## Lesson 1. GIS in Python: Vector Spatial Data"
   ]
  },
  {
   "cell_type": "markdown",
   "id": "spatial-friendship",
   "metadata": {},
   "source": [
    "Import shapefile"
   ]
  },
  {
   "cell_type": "code",
   "execution_count": 1,
   "id": "scientific-income",
   "metadata": {},
   "outputs": [],
   "source": [
    "import os\n",
    "import matplotlib.pyplot as plt\n",
    "import geopandas as gpd\n",
    "import earthpy as et"
   ]
  },
  {
   "cell_type": "code",
   "execution_count": 2,
   "id": "relevant-movie",
   "metadata": {},
   "outputs": [],
   "source": [
    "data_path = et.data.get_data('spatial-vector-lidar')\n",
    "\n",
    "plot_centroid_path = os.path.join(os.path.expanduser('~'),\n",
    "                                  'earth-analytics',\n",
    "                                  'data',\n",
    "                                  'spatial-vector-lidar',\n",
    "                                  'california',\n",
    "                                  'neon-sjer-site',\n",
    "                                  'vector_data',\n",
    "                                  'SJER_plot_centroids.shp')\n",
    "\n",
    "sjer_plot_locations = gpd.read_file(plot_centroid_path)"
   ]
  },
  {
   "cell_type": "code",
   "execution_count": 3,
   "id": "swiss-rental",
   "metadata": {},
   "outputs": [
    {
     "data": {
      "text/html": [
       "<div>\n",
       "<style scoped>\n",
       "    .dataframe tbody tr th:only-of-type {\n",
       "        vertical-align: middle;\n",
       "    }\n",
       "\n",
       "    .dataframe tbody tr th {\n",
       "        vertical-align: top;\n",
       "    }\n",
       "\n",
       "    .dataframe thead th {\n",
       "        text-align: right;\n",
       "    }\n",
       "</style>\n",
       "<table border=\"1\" class=\"dataframe\">\n",
       "  <thead>\n",
       "    <tr style=\"text-align: right;\">\n",
       "      <th></th>\n",
       "      <th>Plot_ID</th>\n",
       "      <th>Point</th>\n",
       "      <th>northing</th>\n",
       "      <th>easting</th>\n",
       "      <th>plot_type</th>\n",
       "      <th>geometry</th>\n",
       "    </tr>\n",
       "  </thead>\n",
       "  <tbody>\n",
       "    <tr>\n",
       "      <th>0</th>\n",
       "      <td>SJER1068</td>\n",
       "      <td>center</td>\n",
       "      <td>4111567.818</td>\n",
       "      <td>255852.376</td>\n",
       "      <td>trees</td>\n",
       "      <td>POINT (255852.376 4111567.818)</td>\n",
       "    </tr>\n",
       "    <tr>\n",
       "      <th>1</th>\n",
       "      <td>SJER112</td>\n",
       "      <td>center</td>\n",
       "      <td>4111298.971</td>\n",
       "      <td>257406.967</td>\n",
       "      <td>trees</td>\n",
       "      <td>POINT (257406.967 4111298.971)</td>\n",
       "    </tr>\n",
       "    <tr>\n",
       "      <th>2</th>\n",
       "      <td>SJER116</td>\n",
       "      <td>center</td>\n",
       "      <td>4110819.876</td>\n",
       "      <td>256838.760</td>\n",
       "      <td>grass</td>\n",
       "      <td>POINT (256838.760 4110819.876)</td>\n",
       "    </tr>\n",
       "    <tr>\n",
       "      <th>3</th>\n",
       "      <td>SJER117</td>\n",
       "      <td>center</td>\n",
       "      <td>4108752.026</td>\n",
       "      <td>256176.947</td>\n",
       "      <td>trees</td>\n",
       "      <td>POINT (256176.947 4108752.026)</td>\n",
       "    </tr>\n",
       "    <tr>\n",
       "      <th>4</th>\n",
       "      <td>SJER120</td>\n",
       "      <td>center</td>\n",
       "      <td>4110476.079</td>\n",
       "      <td>255968.372</td>\n",
       "      <td>grass</td>\n",
       "      <td>POINT (255968.372 4110476.079)</td>\n",
       "    </tr>\n",
       "    <tr>\n",
       "      <th>5</th>\n",
       "      <td>SJER128</td>\n",
       "      <td>center</td>\n",
       "      <td>4111388.570</td>\n",
       "      <td>257078.867</td>\n",
       "      <td>trees</td>\n",
       "      <td>POINT (257078.867 4111388.570)</td>\n",
       "    </tr>\n",
       "    <tr>\n",
       "      <th>6</th>\n",
       "      <td>SJER192</td>\n",
       "      <td>center</td>\n",
       "      <td>4111071.087</td>\n",
       "      <td>256683.434</td>\n",
       "      <td>grass</td>\n",
       "      <td>POINT (256683.434 4111071.087)</td>\n",
       "    </tr>\n",
       "    <tr>\n",
       "      <th>7</th>\n",
       "      <td>SJER272</td>\n",
       "      <td>center</td>\n",
       "      <td>4112167.778</td>\n",
       "      <td>256717.467</td>\n",
       "      <td>trees</td>\n",
       "      <td>POINT (256717.467 4112167.778)</td>\n",
       "    </tr>\n",
       "    <tr>\n",
       "      <th>8</th>\n",
       "      <td>SJER2796</td>\n",
       "      <td>center</td>\n",
       "      <td>4111533.879</td>\n",
       "      <td>256034.390</td>\n",
       "      <td>soil</td>\n",
       "      <td>POINT (256034.390 4111533.879)</td>\n",
       "    </tr>\n",
       "    <tr>\n",
       "      <th>9</th>\n",
       "      <td>SJER3239</td>\n",
       "      <td>center</td>\n",
       "      <td>4109856.983</td>\n",
       "      <td>258497.102</td>\n",
       "      <td>soil</td>\n",
       "      <td>POINT (258497.102 4109856.983)</td>\n",
       "    </tr>\n",
       "    <tr>\n",
       "      <th>10</th>\n",
       "      <td>SJER36</td>\n",
       "      <td>center</td>\n",
       "      <td>4110161.674</td>\n",
       "      <td>258277.829</td>\n",
       "      <td>trees</td>\n",
       "      <td>POINT (258277.829 4110161.674)</td>\n",
       "    </tr>\n",
       "    <tr>\n",
       "      <th>11</th>\n",
       "      <td>SJER361</td>\n",
       "      <td>center</td>\n",
       "      <td>4107527.074</td>\n",
       "      <td>256961.794</td>\n",
       "      <td>grass</td>\n",
       "      <td>POINT (256961.794 4107527.074)</td>\n",
       "    </tr>\n",
       "    <tr>\n",
       "      <th>12</th>\n",
       "      <td>SJER37</td>\n",
       "      <td>center</td>\n",
       "      <td>4107578.841</td>\n",
       "      <td>256148.197</td>\n",
       "      <td>trees</td>\n",
       "      <td>POINT (256148.197 4107578.841)</td>\n",
       "    </tr>\n",
       "    <tr>\n",
       "      <th>13</th>\n",
       "      <td>SJER4</td>\n",
       "      <td>center</td>\n",
       "      <td>4109767.289</td>\n",
       "      <td>257228.336</td>\n",
       "      <td>trees</td>\n",
       "      <td>POINT (257228.336 4109767.289)</td>\n",
       "    </tr>\n",
       "    <tr>\n",
       "      <th>14</th>\n",
       "      <td>SJER8</td>\n",
       "      <td>center</td>\n",
       "      <td>4110249.265</td>\n",
       "      <td>254738.618</td>\n",
       "      <td>trees</td>\n",
       "      <td>POINT (254738.618 4110249.265)</td>\n",
       "    </tr>\n",
       "    <tr>\n",
       "      <th>15</th>\n",
       "      <td>SJER824</td>\n",
       "      <td>center</td>\n",
       "      <td>4110047.586</td>\n",
       "      <td>256185.584</td>\n",
       "      <td>soil</td>\n",
       "      <td>POINT (256185.584 4110047.586)</td>\n",
       "    </tr>\n",
       "    <tr>\n",
       "      <th>16</th>\n",
       "      <td>SJER916</td>\n",
       "      <td>center</td>\n",
       "      <td>4109616.679</td>\n",
       "      <td>257460.486</td>\n",
       "      <td>soil</td>\n",
       "      <td>POINT (257460.486 4109616.679)</td>\n",
       "    </tr>\n",
       "    <tr>\n",
       "      <th>17</th>\n",
       "      <td>SJER952</td>\n",
       "      <td>center</td>\n",
       "      <td>4110759.039</td>\n",
       "      <td>255871.194</td>\n",
       "      <td>grass</td>\n",
       "      <td>POINT (255871.194 4110759.039)</td>\n",
       "    </tr>\n",
       "  </tbody>\n",
       "</table>\n",
       "</div>"
      ],
      "text/plain": [
       "     Plot_ID   Point     northing     easting plot_type  \\\n",
       "0   SJER1068  center  4111567.818  255852.376     trees   \n",
       "1    SJER112  center  4111298.971  257406.967     trees   \n",
       "2    SJER116  center  4110819.876  256838.760     grass   \n",
       "3    SJER117  center  4108752.026  256176.947     trees   \n",
       "4    SJER120  center  4110476.079  255968.372     grass   \n",
       "5    SJER128  center  4111388.570  257078.867     trees   \n",
       "6    SJER192  center  4111071.087  256683.434     grass   \n",
       "7    SJER272  center  4112167.778  256717.467     trees   \n",
       "8   SJER2796  center  4111533.879  256034.390      soil   \n",
       "9   SJER3239  center  4109856.983  258497.102      soil   \n",
       "10    SJER36  center  4110161.674  258277.829     trees   \n",
       "11   SJER361  center  4107527.074  256961.794     grass   \n",
       "12    SJER37  center  4107578.841  256148.197     trees   \n",
       "13     SJER4  center  4109767.289  257228.336     trees   \n",
       "14     SJER8  center  4110249.265  254738.618     trees   \n",
       "15   SJER824  center  4110047.586  256185.584      soil   \n",
       "16   SJER916  center  4109616.679  257460.486      soil   \n",
       "17   SJER952  center  4110759.039  255871.194     grass   \n",
       "\n",
       "                          geometry  \n",
       "0   POINT (255852.376 4111567.818)  \n",
       "1   POINT (257406.967 4111298.971)  \n",
       "2   POINT (256838.760 4110819.876)  \n",
       "3   POINT (256176.947 4108752.026)  \n",
       "4   POINT (255968.372 4110476.079)  \n",
       "5   POINT (257078.867 4111388.570)  \n",
       "6   POINT (256683.434 4111071.087)  \n",
       "7   POINT (256717.467 4112167.778)  \n",
       "8   POINT (256034.390 4111533.879)  \n",
       "9   POINT (258497.102 4109856.983)  \n",
       "10  POINT (258277.829 4110161.674)  \n",
       "11  POINT (256961.794 4107527.074)  \n",
       "12  POINT (256148.197 4107578.841)  \n",
       "13  POINT (257228.336 4109767.289)  \n",
       "14  POINT (254738.618 4110249.265)  \n",
       "15  POINT (256185.584 4110047.586)  \n",
       "16  POINT (257460.486 4109616.679)  \n",
       "17  POINT (255871.194 4110759.039)  "
      ]
     },
     "execution_count": 3,
     "metadata": {},
     "output_type": "execute_result"
    }
   ],
   "source": [
    "sjer_plot_locations"
   ]
  },
  {
   "cell_type": "code",
   "execution_count": 4,
   "id": "classical-cocktail",
   "metadata": {},
   "outputs": [
    {
     "data": {
      "text/plain": [
       "0     Point\n",
       "1     Point\n",
       "2     Point\n",
       "3     Point\n",
       "4     Point\n",
       "5     Point\n",
       "6     Point\n",
       "7     Point\n",
       "8     Point\n",
       "9     Point\n",
       "10    Point\n",
       "11    Point\n",
       "12    Point\n",
       "13    Point\n",
       "14    Point\n",
       "15    Point\n",
       "16    Point\n",
       "17    Point\n",
       "dtype: object"
      ]
     },
     "execution_count": 4,
     "metadata": {},
     "output_type": "execute_result"
    }
   ],
   "source": [
    "sjer_plot_locations.geom_type"
   ]
  },
  {
   "cell_type": "code",
   "execution_count": 6,
   "id": "square-match",
   "metadata": {},
   "outputs": [
    {
     "data": {
      "text/plain": [
       "geopandas.geodataframe.GeoDataFrame"
      ]
     },
     "execution_count": 6,
     "metadata": {},
     "output_type": "execute_result"
    }
   ],
   "source": [
    "type(sjer_plot_locations)"
   ]
  },
  {
   "cell_type": "code",
   "execution_count": 7,
   "id": "valid-digit",
   "metadata": {},
   "outputs": [
    {
     "data": {
      "text/plain": [
       "pyproj.crs.crs.CRS"
      ]
     },
     "execution_count": 7,
     "metadata": {},
     "output_type": "execute_result"
    }
   ],
   "source": [
    "type(sjer_plot_locations.crs)"
   ]
  },
  {
   "cell_type": "code",
   "execution_count": 10,
   "id": "atmospheric-position",
   "metadata": {},
   "outputs": [
    {
     "data": {
      "text/plain": [
       "<Projected CRS: EPSG:32611>\n",
       "Name: WGS 84 / UTM zone 11N\n",
       "Axis Info [cartesian]:\n",
       "- E[east]: Easting (metre)\n",
       "- N[north]: Northing (metre)\n",
       "Area of Use:\n",
       "- name: World - N hemisphere - 120°W to 114°W - by country\n",
       "- bounds: (-120.0, 0.0, -114.0, 84.0)\n",
       "Coordinate Operation:\n",
       "- name: UTM zone 11N\n",
       "- method: Transverse Mercator\n",
       "Datum: World Geodetic System 1984\n",
       "- Ellipsoid: WGS 84\n",
       "- Prime Meridian: Greenwich"
      ]
     },
     "execution_count": 10,
     "metadata": {},
     "output_type": "execute_result"
    }
   ],
   "source": [
    "sjer_plot_locations.crs"
   ]
  },
  {
   "cell_type": "code",
   "execution_count": 8,
   "id": "developed-effect",
   "metadata": {},
   "outputs": [
    {
     "data": {
      "text/plain": [
       "numpy.ndarray"
      ]
     },
     "execution_count": 8,
     "metadata": {},
     "output_type": "execute_result"
    }
   ],
   "source": [
    "type(sjer_plot_locations.total_bounds)"
   ]
  },
  {
   "cell_type": "code",
   "execution_count": 9,
   "id": "prostate-secretariat",
   "metadata": {},
   "outputs": [
    {
     "data": {
      "text/plain": [
       "array([ 254738.618, 4107527.074,  258497.102, 4112167.778])"
      ]
     },
     "execution_count": 9,
     "metadata": {},
     "output_type": "execute_result"
    }
   ],
   "source": [
    "sjer_plot_locations.total_bounds"
   ]
  },
  {
   "cell_type": "code",
   "execution_count": 11,
   "id": "impaired-armenia",
   "metadata": {},
   "outputs": [
    {
     "data": {
      "text/plain": [
       "(18, 6)"
      ]
     },
     "execution_count": 11,
     "metadata": {},
     "output_type": "execute_result"
    }
   ],
   "source": [
    "sjer_plot_locations.shape"
   ]
  },
  {
   "cell_type": "code",
   "execution_count": 12,
   "id": "direct-sapphire",
   "metadata": {},
   "outputs": [
    {
     "data": {
      "text/plain": [
       "tuple"
      ]
     },
     "execution_count": 12,
     "metadata": {},
     "output_type": "execute_result"
    }
   ],
   "source": [
    "type(sjer_plot_locations.shape)"
   ]
  },
  {
   "cell_type": "code",
   "execution_count": 15,
   "id": "specified-daughter",
   "metadata": {},
   "outputs": [
    {
     "data": {
      "text/plain": [
       "<AxesSubplot:>"
      ]
     },
     "execution_count": 15,
     "metadata": {},
     "output_type": "execute_result"
    },
    {
     "data": {
      "image/png": "[encoded data removed]",
      "text/plain": [
       "<Figure size 432x288 with 1 Axes>"
      ]
     },
     "metadata": {
      "needs_background": "light"
     },
     "output_type": "display_data"
    }
   ],
   "source": [
    "sjer_plot_locations.plot()"
   ]
  },
  {
   "cell_type": "code",
   "execution_count": 16,
   "id": "muslim-indie",
   "metadata": {},
   "outputs": [
    {
     "data": {
      "text/plain": [
       "<AxesSubplot:>"
      ]
     },
     "execution_count": 16,
     "metadata": {},
     "output_type": "execute_result"
    },
    {
     "data": {
      "image/png": "[encoded data removed]",
      "text/plain": [
       "<Figure size 720x720 with 1 Axes>"
      ]
     },
     "metadata": {
      "needs_background": "light"
     },
     "output_type": "display_data"
    }
   ],
   "source": [
    "fig, ax = plt.subplots(figsize=(10,10))\n",
    "\n",
    "sjer_plot_locations.plot(ax=ax)"
   ]
  },
  {
   "cell_type": "code",
   "execution_count": 28,
   "id": "environmental-second",
   "metadata": {},
   "outputs": [
    {
     "data": {
      "image/png": "[encoded data removed]",
      "text/plain": [
       "<Figure size 864x864 with 1 Axes>"
      ]
     },
     "metadata": {
      "needs_background": "light"
     },
     "output_type": "display_data"
    }
   ],
   "source": [
    "fig, ax = plt.subplots(figsize=(12,12))\n",
    "\n",
    "sjer_plot_locations.plot(column='plot_type',\n",
    "                         categorical=True,\n",
    "                         legend=True,\n",
    "                         marker='*',\n",
    "                         markersize=45,\n",
    "                         cmap='Set2',\n",
    "                         ax=ax)\n",
    "\n",
    "ax.set_title('SJER Plot Locations\\nMadera County, CA')\n",
    "\n",
    "plt.show()"
   ]
  },
  {
   "cell_type": "markdown",
   "id": "placed-awareness",
   "metadata": {},
   "source": [
    "Plot multiple layers on the same axis"
   ]
  },
  {
   "cell_type": "code",
   "execution_count": 30,
   "id": "ideal-insured",
   "metadata": {},
   "outputs": [],
   "source": [
    "# Define path to crop boundary shapefile\n",
    "sjer_crop_extent_path = os.path.join(os.path.expanduser('~'),\n",
    "                                     'earth-analytics',\n",
    "                                     'data',\n",
    "                                     'spatial-vector-lidar',\n",
    "                                     'california',\n",
    "                                     'neon-sjer-site',\n",
    "                                     'vector_data',\n",
    "                                     'SJER_crop.shp')\n",
    "\n",
    "# Import crop boundaries\n",
    "sjer_crop_extent = gpd.read_file(sjer_crop_extent_path)"
   ]
  },
  {
   "cell_type": "code",
   "execution_count": 32,
   "id": "compound-catalyst",
   "metadata": {},
   "outputs": [
    {
     "data": {
      "text/html": [
       "<div>\n",
       "<style scoped>\n",
       "    .dataframe tbody tr th:only-of-type {\n",
       "        vertical-align: middle;\n",
       "    }\n",
       "\n",
       "    .dataframe tbody tr th {\n",
       "        vertical-align: top;\n",
       "    }\n",
       "\n",
       "    .dataframe thead th {\n",
       "        text-align: right;\n",
       "    }\n",
       "</style>\n",
       "<table border=\"1\" class=\"dataframe\">\n",
       "  <thead>\n",
       "    <tr style=\"text-align: right;\">\n",
       "      <th></th>\n",
       "      <th>Id</th>\n",
       "      <th>geometry</th>\n",
       "    </tr>\n",
       "  </thead>\n",
       "  <tbody>\n",
       "    <tr>\n",
       "      <th>0</th>\n",
       "      <td>0</td>\n",
       "      <td>POLYGON ((254570.567 4112361.920, 258867.409 4...</td>\n",
       "    </tr>\n",
       "  </tbody>\n",
       "</table>\n",
       "</div>"
      ],
      "text/plain": [
       "   Id                                           geometry\n",
       "0   0  POLYGON ((254570.567 4112361.920, 258867.409 4..."
      ]
     },
     "execution_count": 32,
     "metadata": {},
     "output_type": "execute_result"
    }
   ],
   "source": [
    "sjer_crop_extent"
   ]
  },
  {
   "cell_type": "code",
   "execution_count": 31,
   "id": "existing-showcase",
   "metadata": {},
   "outputs": [
    {
     "data": {
      "image/png": "[encoded data removed]",
      "text/plain": [
       "<Figure size 864x864 with 1 Axes>"
      ]
     },
     "metadata": {
      "needs_background": "light"
     },
     "output_type": "display_data"
    }
   ],
   "source": [
    "fig, ax = plt.subplots(figsize=(12,12))\n",
    "\n",
    "sjer_crop_extent.plot(color='lightgrey',\n",
    "                      edgecolor='black',\n",
    "                      alpha=0.5,\n",
    "                      ax=ax)\n",
    "\n",
    "# Add another layer using the same ax\n",
    "sjer_plot_locations.plot(column='plot_type',\n",
    "                         categorical=True,\n",
    "                         legend=True,\n",
    "                         markersize=50,\n",
    "                         cmap='Set2',\n",
    "                         ax=ax)\n",
    "\n",
    "ax.set_title('SJER Plot Locations\\nMadera County, CA')\n",
    "ax.set_axis_off()\n",
    "\n",
    "plt.axis('equal')\n",
    "plt.show()"
   ]
  },
  {
   "cell_type": "code",
   "execution_count": null,
   "id": "united-treatment",
   "metadata": {},
   "outputs": [],
   "source": []
  }
 ],
 "metadata": {
  "kernelspec": {
   "display_name": "Python 3",
   "language": "python",
   "name": "python3"
  },
  "language_info": {
   "codemirror_mode": {
    "name": "ipython",
    "version": 3
   },
   "file_extension": ".py",
   "mimetype": "text/x-python",
   "name": "python",
   "nbconvert_exporter": "python",
   "pygments_lexer": "ipython3",
   "version": "3.8.6"
  }
 },
 "nbformat": 4,
 "nbformat_minor": 5
}
