{
 "cells": [
  {
   "cell_type": "markdown",
   "id": "further-muslim",
   "metadata": {},
   "source": [
    "## Lesson 5. About GeoTiff"
   ]
  },
  {
   "cell_type": "code",
   "execution_count": 1,
   "id": "developed-advantage",
   "metadata": {},
   "outputs": [],
   "source": [
    "import os\n",
    "import rioxarray as rxr\n",
    "import earthpy as et"
   ]
  },
  {
   "cell_type": "code",
   "execution_count": 2,
   "id": "sticky-alaska",
   "metadata": {},
   "outputs": [],
   "source": [
    "data_path = et.data.get_data('colorado-flood')"
   ]
  },
  {
   "cell_type": "code",
   "execution_count": 3,
   "id": "blocked-composite",
   "metadata": {},
   "outputs": [
    {
     "data": {
      "text/plain": [
       "(472000.0, 4434000.0, 476000.0, 4436000.0)"
      ]
     },
     "execution_count": 3,
     "metadata": {},
     "output_type": "execute_result"
    }
   ],
   "source": [
    "lidar_dem = rxr.open_rasterio(os.path.join(data_path,\n",
    "                                           'spatial',\n",
    "                                           'boulder-leehill-rd',\n",
    "                                           'pre-flood',\n",
    "                                           'lidar',\n",
    "                                           'pre_DTM.tif'),\n",
    "                              masked=True)\n",
    "lidar_dem.rio.bounds()"
   ]
  },
  {
   "cell_type": "code",
   "execution_count": 4,
   "id": "musical-combine",
   "metadata": {},
   "outputs": [
    {
     "name": "stdout",
     "output_type": "stream",
     "text": [
      "The CRS is: EPSG:32613\n",
      "The nodata value is: nan\n",
      "The shape is: (2000, 4000)\n",
      "The spatial resolution is: (1.0, -1.0)\n",
      "The metadata is: {'scale_factor': 1.0, 'add_offset': 0.0, 'grid_mapping': 'spatial_ref'}\n"
     ]
    }
   ],
   "source": [
    "print('The CRS is:', lidar_dem.rio.crs)\n",
    "print('The nodata value is:', lidar_dem.rio.nodata)\n",
    "print('The shape is:', lidar_dem.rio.shape)\n",
    "print('The spatial resolution is:', lidar_dem.rio.resolution())\n",
    "print('The metadata is:', lidar_dem.attrs)"
   ]
  },
  {
   "cell_type": "markdown",
   "id": "educational-announcement",
   "metadata": {},
   "source": [
    "Open lidar DSM and compare values"
   ]
  },
  {
   "cell_type": "code",
   "execution_count": 5,
   "id": "relative-liability",
   "metadata": {},
   "outputs": [],
   "source": [
    "lidar_dsm = rxr.open_rasterio(os.path.join(data_path,\n",
    "                                           'spatial',\n",
    "                                           'boulder-leehill-rd',\n",
    "                                           'pre-flood',\n",
    "                                           'lidar',\n",
    "                                           'pre_DSM.tif'),\n",
    "                              masked=True)"
   ]
  },
  {
   "cell_type": "code",
   "execution_count": 7,
   "id": "narrative-testing",
   "metadata": {},
   "outputs": [
    {
     "data": {
      "text/plain": [
       "True"
      ]
     },
     "execution_count": 7,
     "metadata": {},
     "output_type": "execute_result"
    }
   ],
   "source": [
    "lidar_dem.rio.bounds() == lidar_dsm.rio.bounds()"
   ]
  },
  {
   "cell_type": "code",
   "execution_count": 8,
   "id": "fitting-helicopter",
   "metadata": {},
   "outputs": [
    {
     "data": {
      "text/plain": [
       "True"
      ]
     },
     "execution_count": 8,
     "metadata": {},
     "output_type": "execute_result"
    }
   ],
   "source": [
    "lidar_dem.rio.resolution() == lidar_dsm.rio.resolution()"
   ]
  },
  {
   "cell_type": "code",
   "execution_count": 9,
   "id": "utility-cradle",
   "metadata": {},
   "outputs": [
    {
     "data": {
      "text/plain": [
       "True"
      ]
     },
     "execution_count": 9,
     "metadata": {},
     "output_type": "execute_result"
    }
   ],
   "source": [
    "lidar_dem.rio.crs == lidar_dsm.rio.crs"
   ]
  },
  {
   "cell_type": "code",
   "execution_count": 10,
   "id": "loved-section",
   "metadata": {},
   "outputs": [
    {
     "data": {
      "text/plain": [
       "CRS.from_epsg(32613)"
      ]
     },
     "execution_count": 10,
     "metadata": {},
     "output_type": "execute_result"
    }
   ],
   "source": [
    "lidar_dem.rio.crs"
   ]
  },
  {
   "cell_type": "code",
   "execution_count": 11,
   "id": "norwegian-element",
   "metadata": {},
   "outputs": [
    {
     "data": {
      "text/plain": [
       "'+proj=utm +zone=13 +datum=WGS84 +units=m +no_defs'"
      ]
     },
     "execution_count": 11,
     "metadata": {},
     "output_type": "execute_result"
    }
   ],
   "source": [
    "et.epsg['32613']"
   ]
  },
  {
   "cell_type": "markdown",
   "id": "behind-warrior",
   "metadata": {},
   "source": [
    "**Single band vs. multi-band GeoTiffs**"
   ]
  },
  {
   "cell_type": "code",
   "execution_count": 12,
   "id": "accepted-yahoo",
   "metadata": {},
   "outputs": [
    {
     "data": {
      "text/plain": [
       "(2000, 4000)"
      ]
     },
     "execution_count": 12,
     "metadata": {},
     "output_type": "execute_result"
    }
   ],
   "source": [
    "lidar_dem.rio.shape"
   ]
  },
  {
   "cell_type": "code",
   "execution_count": 13,
   "id": "unlikely-stadium",
   "metadata": {},
   "outputs": [
    {
     "data": {
      "text/plain": [
       "(2000, 4000)"
      ]
     },
     "execution_count": 13,
     "metadata": {},
     "output_type": "execute_result"
    }
   ],
   "source": [
    "lidar_dsm.rio.shape"
   ]
  },
  {
   "cell_type": "markdown",
   "id": "increasing-violation",
   "metadata": {},
   "source": [
    "According to the textbook the above is meant to read <code>(1, 2000, 4000)</code> with the first number representing the number of layers.\n",
    "\n",
    "Another way to acquire this number is:"
   ]
  },
  {
   "cell_type": "code",
   "execution_count": 14,
   "id": "clinical-ratio",
   "metadata": {},
   "outputs": [
    {
     "name": "stdout",
     "output_type": "stream",
     "text": [
      "The number of bands is: 1\n"
     ]
    }
   ],
   "source": [
    "print('The number of bands is:', lidar_dem.rio.count)"
   ]
  }
 ],
 "metadata": {
  "kernelspec": {
   "display_name": "Python 3",
   "language": "python",
   "name": "python3"
  },
  "language_info": {
   "codemirror_mode": {
    "name": "ipython",
    "version": 3
   },
   "file_extension": ".py",
   "mimetype": "text/x-python",
   "name": "python",
   "nbconvert_exporter": "python",
   "pygments_lexer": "ipython3",
   "version": "3.8.6"
  }
 },
 "nbformat": 4,
 "nbformat_minor": 5
}
