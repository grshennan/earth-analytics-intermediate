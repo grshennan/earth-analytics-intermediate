{
 "cells": [
  {
   "cell_type": "markdown",
   "id": "dense-command",
   "metadata": {},
   "source": [
    "## Lesson2. The Relationship Between Precipitation and Stream Discharge"
   ]
  },
  {
   "cell_type": "code",
   "execution_count": 62,
   "id": "potential-exemption",
   "metadata": {},
   "outputs": [],
   "source": [
    "import os\n",
    "import urllib\n",
    "import math\n",
    "import matplotlib.pyplot as plt\n",
    "import pandas as pd\n",
    "import earthpy as et\n",
    "import hydrofunctions as hf\n",
    "import seaborn as sns\n",
    "%matplotlib inline"
   ]
  },
  {
   "cell_type": "code",
   "execution_count": 41,
   "id": "registered-willow",
   "metadata": {},
   "outputs": [],
   "source": [
    "# Handle datetime conversions between pandas and matplotlib\n",
    "from pandas.plotting import register_matplotlib_converters\n",
    "register_matplotlib_converters()"
   ]
  },
  {
   "cell_type": "code",
   "execution_count": 42,
   "id": "proprietary-workplace",
   "metadata": {},
   "outputs": [],
   "source": [
    "sns.set(font_scale=1.5, style='whitegrid')"
   ]
  },
  {
   "cell_type": "code",
   "execution_count": 43,
   "id": "aging-underwear",
   "metadata": {},
   "outputs": [],
   "source": [
    "data_path = et.data.get_data('colorado-flood')"
   ]
  },
  {
   "cell_type": "markdown",
   "id": "frequent-backing",
   "metadata": {},
   "source": [
    "Download discharge data"
   ]
  },
  {
   "cell_type": "code",
   "execution_count": 44,
   "id": "removable-solomon",
   "metadata": {},
   "outputs": [],
   "source": [
    "site = '06730500'\n",
    "start = '1946-05-10'\n",
    "end = '2018-08-29'\n",
    "\n",
    "longmost_resp = hf.get_nwis(site, 'dv', start, end)"
   ]
  },
  {
   "cell_type": "code",
   "execution_count": 45,
   "id": "accompanied-printing",
   "metadata": {},
   "outputs": [],
   "source": [
    "# Convert to json in order to use extract_nwis_df\n",
    "longmost_resp = longmost_resp.json()"
   ]
  },
  {
   "cell_type": "code",
   "execution_count": 46,
   "id": "lyric-optimum",
   "metadata": {},
   "outputs": [
    {
     "data": {
      "text/plain": [
       "{'name': 'ns1:timeSeriesResponseType',\n",
       " 'declaredType': 'org.cuahsi.waterml.TimeSeriesResponseType',\n",
       " 'scope': 'javax.xml.bind.JAXBElement$GlobalScope',\n",
       " 'value': {'queryInfo': {'queryURL': 'http://waterservices.usgs.gov/nwis/dv/format=json%2C1.1&sites=06730500&parameterCd=00060',\n",
       "   'criteria': {'locationParam': '[ALL:06730500]',\n",
       "    'variableParam': '[00060]',\n",
       "    'parameter': []},\n",
       "   'note': [{'value': '[ALL:06730500]', 'title': 'filter:sites'},\n",
       "    {'value': '[mode=LATEST, modifiedSince=null]',\n",
       "     'title': 'filter:timeRange'},\n",
       "    {'value': 'methodIds=[ALL]', 'title': 'filter:methodId'},\n",
       "    {'value': '2021-02-06T03:08:59.155Z', 'title': 'requestDT'},\n",
       "    {'value': 'a800d720-6828-11eb-8624-005056beda50', 'title': 'requestId'},\n",
       "    {'value': 'Provisional data are subject to revision. Go to http://waterdata.usgs.gov/nwis/help/?provisional for more information.',\n",
       "     'title': 'disclaimer'},\n",
       "    {'value': 'caas01', 'title': 'server'}]},\n",
       "  'timeSeries': [{'sourceInfo': {'siteName': 'BOULDER CREEK AT MOUTH NEAR LONGMONT, CO',\n",
       "     'siteCode': [{'value': '06730500',\n",
       "       'network': 'NWIS',\n",
       "       'agencyCode': 'USGS'}],\n",
       "     'timeZoneInfo': {'defaultTimeZone': {'zoneOffset': '-07:00',\n",
       "       'zoneAbbreviation': 'MST'},\n",
       "      'daylightSavingsTimeZone': {'zoneOffset': '-06:00',\n",
       "       'zoneAbbreviation': 'MDT'},\n",
       "      'siteUsesDaylightSavingsTime': True},\n",
       "     'geoLocation': {'geogLocation': {'srs': 'EPSG:4326',\n",
       "       'latitude': 40.13877778,\n",
       "       'longitude': -105.0202222},\n",
       "      'localSiteXY': []},\n",
       "     'note': [],\n",
       "     'siteType': [],\n",
       "     'siteProperty': [{'value': 'ST', 'name': 'siteTypeCd'},\n",
       "      {'value': '10190005', 'name': 'hucCd'},\n",
       "      {'value': '08', 'name': 'stateCd'},\n",
       "      {'value': '08123', 'name': 'countyCd'}]},\n",
       "    'variable': {'variableCode': [{'value': '00060',\n",
       "       'network': 'NWIS',\n",
       "       'vocabulary': 'NWIS:UnitValues',\n",
       "       'variableID': 45807197,\n",
       "       'default': True}],\n",
       "     'variableName': 'Streamflow, ft&#179;/s',\n",
       "     'variableDescription': 'Discharge, cubic feet per second',\n",
       "     'valueType': 'Derived Value',\n",
       "     'unit': {'unitCode': 'ft3/s'},\n",
       "     'options': {'option': [{'value': 'Mean',\n",
       "        'name': 'Statistic',\n",
       "        'optionCode': '00003'}]},\n",
       "     'note': [],\n",
       "     'noDataValue': -999999.0,\n",
       "     'variableProperty': [],\n",
       "     'oid': '45807197'},\n",
       "    'values': [{'value': [{'value': '48.6',\n",
       "        'qualifiers': ['P'],\n",
       "        'dateTime': '2021-02-04T00:00:00.000'}],\n",
       "      'qualifier': [{'qualifierCode': 'P',\n",
       "        'qualifierDescription': 'Provisional data subject to revision.',\n",
       "        'qualifierID': 0,\n",
       "        'network': 'NWIS',\n",
       "        'vocabulary': 'uv_rmk_cd'}],\n",
       "      'qualityControlLevel': [],\n",
       "      'method': [{'methodDescription': '', 'methodID': 17666}],\n",
       "      'source': [],\n",
       "      'offset': [],\n",
       "      'sample': [],\n",
       "      'censorCode': []}],\n",
       "    'name': 'USGS:06730500:00060:00003'}]},\n",
       " 'nil': False,\n",
       " 'globalScope': True,\n",
       " 'typeSubstituted': False}"
      ]
     },
     "execution_count": 46,
     "metadata": {},
     "output_type": "execute_result"
    }
   ],
   "source": [
    "hf.get_nwis(site, 'dv').json()"
   ]
  },
  {
   "cell_type": "markdown",
   "id": "abroad-extraction",
   "metadata": {},
   "source": [
    "Convert to DataFrame"
   ]
  },
  {
   "cell_type": "code",
   "execution_count": 47,
   "id": "convinced-moment",
   "metadata": {},
   "outputs": [],
   "source": [
    "longmont_discharge = hf.extract_nwis_df(longmost_resp)"
   ]
  },
  {
   "cell_type": "code",
   "execution_count": 48,
   "id": "spiritual-cyprus",
   "metadata": {},
   "outputs": [
    {
     "data": {
      "text/html": [
       "<div>\n",
       "<style scoped>\n",
       "    .dataframe tbody tr th:only-of-type {\n",
       "        vertical-align: middle;\n",
       "    }\n",
       "\n",
       "    .dataframe tbody tr th {\n",
       "        vertical-align: top;\n",
       "    }\n",
       "\n",
       "    .dataframe thead th {\n",
       "        text-align: right;\n",
       "    }\n",
       "</style>\n",
       "<table border=\"1\" class=\"dataframe\">\n",
       "  <thead>\n",
       "    <tr style=\"text-align: right;\">\n",
       "      <th></th>\n",
       "      <th>discharge</th>\n",
       "      <th>flag</th>\n",
       "    </tr>\n",
       "    <tr>\n",
       "      <th>datetime</th>\n",
       "      <th></th>\n",
       "      <th></th>\n",
       "    </tr>\n",
       "  </thead>\n",
       "  <tbody>\n",
       "    <tr>\n",
       "      <th>1946-05-10</th>\n",
       "      <td>16.00</td>\n",
       "      <td>A</td>\n",
       "    </tr>\n",
       "    <tr>\n",
       "      <th>1946-05-11</th>\n",
       "      <td>19.00</td>\n",
       "      <td>A</td>\n",
       "    </tr>\n",
       "    <tr>\n",
       "      <th>1946-05-12</th>\n",
       "      <td>9.00</td>\n",
       "      <td>A</td>\n",
       "    </tr>\n",
       "    <tr>\n",
       "      <th>1946-05-13</th>\n",
       "      <td>3.00</td>\n",
       "      <td>A</td>\n",
       "    </tr>\n",
       "    <tr>\n",
       "      <th>1946-05-14</th>\n",
       "      <td>7.80</td>\n",
       "      <td>A</td>\n",
       "    </tr>\n",
       "    <tr>\n",
       "      <th>...</th>\n",
       "      <td>...</td>\n",
       "      <td>...</td>\n",
       "    </tr>\n",
       "    <tr>\n",
       "      <th>2018-08-25</th>\n",
       "      <td>9.86</td>\n",
       "      <td>A</td>\n",
       "    </tr>\n",
       "    <tr>\n",
       "      <th>2018-08-26</th>\n",
       "      <td>7.02</td>\n",
       "      <td>A</td>\n",
       "    </tr>\n",
       "    <tr>\n",
       "      <th>2018-08-27</th>\n",
       "      <td>4.05</td>\n",
       "      <td>A</td>\n",
       "    </tr>\n",
       "    <tr>\n",
       "      <th>2018-08-28</th>\n",
       "      <td>2.67</td>\n",
       "      <td>A</td>\n",
       "    </tr>\n",
       "    <tr>\n",
       "      <th>2018-08-29</th>\n",
       "      <td>3.36</td>\n",
       "      <td>A</td>\n",
       "    </tr>\n",
       "  </tbody>\n",
       "</table>\n",
       "<p>17082 rows × 2 columns</p>\n",
       "</div>"
      ],
      "text/plain": [
       "            discharge flag\n",
       "datetime                  \n",
       "1946-05-10      16.00    A\n",
       "1946-05-11      19.00    A\n",
       "1946-05-12       9.00    A\n",
       "1946-05-13       3.00    A\n",
       "1946-05-14       7.80    A\n",
       "...               ...  ...\n",
       "2018-08-25       9.86    A\n",
       "2018-08-26       7.02    A\n",
       "2018-08-27       4.05    A\n",
       "2018-08-28       2.67    A\n",
       "2018-08-29       3.36    A\n",
       "\n",
       "[17082 rows x 2 columns]"
      ]
     },
     "execution_count": 48,
     "metadata": {},
     "output_type": "execute_result"
    }
   ],
   "source": [
    "longmont_discharge.columns = ['discharge', 'flag']\n",
    "longmont_discharge"
   ]
  },
  {
   "cell_type": "markdown",
   "id": "baking-confirmation",
   "metadata": {},
   "source": [
    "Add a year column"
   ]
  },
  {
   "cell_type": "code",
   "execution_count": 49,
   "id": "encouraging-christmas",
   "metadata": {},
   "outputs": [],
   "source": [
    "longmont_discharge['year'] = longmont_discharge.index.year"
   ]
  },
  {
   "cell_type": "code",
   "execution_count": 50,
   "id": "cooked-hours",
   "metadata": {},
   "outputs": [
    {
     "data": {
      "text/plain": [
       "['T',\n",
       " '__abs__',\n",
       " '__add__',\n",
       " '__and__',\n",
       " '__annotations__',\n",
       " '__array__',\n",
       " '__array_priority__',\n",
       " '__array_wrap__',\n",
       " '__bool__',\n",
       " '__class__',\n",
       " '__contains__',\n",
       " '__copy__',\n",
       " '__deepcopy__',\n",
       " '__delattr__',\n",
       " '__dict__',\n",
       " '__dir__',\n",
       " '__divmod__',\n",
       " '__doc__',\n",
       " '__eq__',\n",
       " '__floordiv__',\n",
       " '__format__',\n",
       " '__ge__',\n",
       " '__getattribute__',\n",
       " '__getitem__',\n",
       " '__gt__',\n",
       " '__hash__',\n",
       " '__iadd__',\n",
       " '__init__',\n",
       " '__init_subclass__',\n",
       " '__inv__',\n",
       " '__iter__',\n",
       " '__le__',\n",
       " '__len__',\n",
       " '__lt__',\n",
       " '__mod__',\n",
       " '__module__',\n",
       " '__mul__',\n",
       " '__ne__',\n",
       " '__neg__',\n",
       " '__new__',\n",
       " '__nonzero__',\n",
       " '__or__',\n",
       " '__pos__',\n",
       " '__pow__',\n",
       " '__radd__',\n",
       " '__rand__',\n",
       " '__rdivmod__',\n",
       " '__reduce__',\n",
       " '__reduce_ex__',\n",
       " '__repr__',\n",
       " '__rfloordiv__',\n",
       " '__rmod__',\n",
       " '__rmul__',\n",
       " '__ror__',\n",
       " '__rpow__',\n",
       " '__rsub__',\n",
       " '__rtruediv__',\n",
       " '__rxor__',\n",
       " '__setattr__',\n",
       " '__setitem__',\n",
       " '__sizeof__',\n",
       " '__str__',\n",
       " '__sub__',\n",
       " '__subclasshook__',\n",
       " '__truediv__',\n",
       " '__weakref__',\n",
       " '__xor__',\n",
       " '_accessors',\n",
       " '_arith_method',\n",
       " '_assert_can_do_setop',\n",
       " '_assert_safe_casting',\n",
       " '_attributes',\n",
       " '_bool_ops',\n",
       " '_cache',\n",
       " '_can_fast_intersect',\n",
       " '_can_fast_union',\n",
       " '_can_hold_identifiers_and_holds_name',\n",
       " '_can_hold_na',\n",
       " '_can_hold_strings',\n",
       " '_can_reindex',\n",
       " '_can_union_without_object_cast',\n",
       " '_check_indexing_error',\n",
       " '_check_indexing_method',\n",
       " '_cleanup',\n",
       " '_cmp_method',\n",
       " '_coerce_scalar_to_index',\n",
       " '_comparables',\n",
       " '_concat',\n",
       " '_constructor',\n",
       " '_convert_arr_indexer',\n",
       " '_convert_can_do_setop',\n",
       " '_convert_list_indexer',\n",
       " '_convert_listlike_indexer',\n",
       " '_convert_slice_indexer',\n",
       " '_convert_tolerance',\n",
       " '_data',\n",
       " '_data_cls',\n",
       " '_datetimelike_methods',\n",
       " '_datetimelike_ops',\n",
       " '_default_dtype',\n",
       " '_defer_to_indexing',\n",
       " '_deprecate_mismatched_indexing',\n",
       " '_difference',\n",
       " '_dir_additions',\n",
       " '_dir_additions_for_owner',\n",
       " '_dir_deletions',\n",
       " '_drop_level_numbers',\n",
       " '_engine',\n",
       " '_engine_type',\n",
       " '_fast_union',\n",
       " '_field_ops',\n",
       " '_filter_indexer_tolerance',\n",
       " '_format_attrs',\n",
       " '_format_data',\n",
       " '_format_duplicate_message',\n",
       " '_format_native_types',\n",
       " '_format_space',\n",
       " '_format_with_header',\n",
       " '_formatter_func',\n",
       " '_get_attributes_dict',\n",
       " '_get_delete_freq',\n",
       " '_get_engine_target',\n",
       " '_get_fill_indexer',\n",
       " '_get_fill_indexer_searchsorted',\n",
       " '_get_grouper_for_level',\n",
       " '_get_indexer_non_comparable',\n",
       " '_get_insert_freq',\n",
       " '_get_join_freq',\n",
       " '_get_level_number',\n",
       " '_get_level_values',\n",
       " '_get_names',\n",
       " '_get_nearest_indexer',\n",
       " '_get_partial_string_timestamp_match_key',\n",
       " '_get_reconciled_name_object',\n",
       " '_get_string_slice',\n",
       " '_get_time_micros',\n",
       " '_get_unique_index',\n",
       " '_get_values_for_loc',\n",
       " '_has_complex_internals',\n",
       " '_has_same_tz',\n",
       " '_hasnans',\n",
       " '_hidden_attrs',\n",
       " '_id',\n",
       " '_index_as_unique',\n",
       " '_index_data',\n",
       " '_inner_indexer',\n",
       " '_intersection',\n",
       " '_invalid_indexer',\n",
       " '_is_all_dates',\n",
       " '_is_comparable_dtype',\n",
       " '_is_dates_only',\n",
       " '_is_memory_usage_qualified',\n",
       " '_is_monotonic_decreasing',\n",
       " '_is_monotonic_increasing',\n",
       " '_is_numeric_dtype',\n",
       " '_is_strictly_monotonic_decreasing',\n",
       " '_is_strictly_monotonic_increasing',\n",
       " '_is_unique',\n",
       " '_isnan',\n",
       " '_join_level',\n",
       " '_join_monotonic',\n",
       " '_join_multi',\n",
       " '_join_non_unique',\n",
       " '_join_precedence',\n",
       " '_left_indexer',\n",
       " '_left_indexer_unique',\n",
       " '_logical_method',\n",
       " '_map_values',\n",
       " '_maybe_cast_for_get_loc',\n",
       " '_maybe_cast_indexer',\n",
       " '_maybe_cast_slice_bound',\n",
       " '_maybe_check_unique',\n",
       " '_maybe_disable_logical_methods',\n",
       " '_maybe_disallow_fill',\n",
       " '_maybe_promote',\n",
       " '_maybe_utc_convert',\n",
       " '_mpl_repr',\n",
       " '_na_value',\n",
       " '_name',\n",
       " '_nan_idxs',\n",
       " '_no_setting_name',\n",
       " '_object_ops',\n",
       " '_outer_indexer',\n",
       " '_parsed_string_to_bounds',\n",
       " '_partial_date_slice',\n",
       " '_reduce',\n",
       " '_reindex_non_unique',\n",
       " '_require_scalar',\n",
       " '_reset_cache',\n",
       " '_reset_identity',\n",
       " '_resolution_obj',\n",
       " '_scalar_data_error',\n",
       " '_searchsorted_monotonic',\n",
       " '_set_names',\n",
       " '_shallow_copy',\n",
       " '_should_compare',\n",
       " '_should_fallback_to_positional',\n",
       " '_simple_new',\n",
       " '_sort_levels_monotonic',\n",
       " '_string_data_error',\n",
       " '_summary',\n",
       " '_supports_partial_string_indexing',\n",
       " '_transform_index',\n",
       " '_typ',\n",
       " '_unary_method',\n",
       " '_union',\n",
       " '_union_incompatible_dtypes',\n",
       " '_validate_dtype',\n",
       " '_validate_fill_value',\n",
       " '_validate_index_level',\n",
       " '_validate_indexer',\n",
       " '_validate_names',\n",
       " '_validate_partial_date_slice',\n",
       " '_validate_positional_slice',\n",
       " '_validate_sort_keyword',\n",
       " '_values',\n",
       " '_with_freq',\n",
       " '_wrap_joined_index',\n",
       " '_wrap_setop_result',\n",
       " 'all',\n",
       " 'any',\n",
       " 'append',\n",
       " 'argmax',\n",
       " 'argmin',\n",
       " 'argsort',\n",
       " 'array',\n",
       " 'asi8',\n",
       " 'asof',\n",
       " 'asof_locs',\n",
       " 'astype',\n",
       " 'ceil',\n",
       " 'copy',\n",
       " 'date',\n",
       " 'day',\n",
       " 'day_name',\n",
       " 'day_of_week',\n",
       " 'day_of_year',\n",
       " 'dayofweek',\n",
       " 'dayofyear',\n",
       " 'days_in_month',\n",
       " 'daysinmonth',\n",
       " 'delete',\n",
       " 'difference',\n",
       " 'drop',\n",
       " 'drop_duplicates',\n",
       " 'droplevel',\n",
       " 'dropna',\n",
       " 'dtype',\n",
       " 'duplicated',\n",
       " 'empty',\n",
       " 'equals',\n",
       " 'factorize',\n",
       " 'fillna',\n",
       " 'floor',\n",
       " 'format',\n",
       " 'freq',\n",
       " 'freqstr',\n",
       " 'get_indexer',\n",
       " 'get_indexer_for',\n",
       " 'get_indexer_non_unique',\n",
       " 'get_level_values',\n",
       " 'get_loc',\n",
       " 'get_slice_bound',\n",
       " 'get_value',\n",
       " 'groupby',\n",
       " 'has_duplicates',\n",
       " 'hasnans',\n",
       " 'holds_integer',\n",
       " 'hour',\n",
       " 'identical',\n",
       " 'indexer_at_time',\n",
       " 'indexer_between_time',\n",
       " 'inferred_freq',\n",
       " 'inferred_type',\n",
       " 'insert',\n",
       " 'intersection',\n",
       " 'is_',\n",
       " 'is_all_dates',\n",
       " 'is_boolean',\n",
       " 'is_categorical',\n",
       " 'is_floating',\n",
       " 'is_integer',\n",
       " 'is_interval',\n",
       " 'is_leap_year',\n",
       " 'is_mixed',\n",
       " 'is_monotonic',\n",
       " 'is_monotonic_decreasing',\n",
       " 'is_monotonic_increasing',\n",
       " 'is_month_end',\n",
       " 'is_month_start',\n",
       " 'is_normalized',\n",
       " 'is_numeric',\n",
       " 'is_object',\n",
       " 'is_quarter_end',\n",
       " 'is_quarter_start',\n",
       " 'is_type_compatible',\n",
       " 'is_unique',\n",
       " 'is_year_end',\n",
       " 'is_year_start',\n",
       " 'isin',\n",
       " 'isna',\n",
       " 'isnull',\n",
       " 'isocalendar',\n",
       " 'item',\n",
       " 'join',\n",
       " 'map',\n",
       " 'max',\n",
       " 'mean',\n",
       " 'memory_usage',\n",
       " 'microsecond',\n",
       " 'min',\n",
       " 'minute',\n",
       " 'month',\n",
       " 'month_name',\n",
       " 'name',\n",
       " 'names',\n",
       " 'nanosecond',\n",
       " 'nbytes',\n",
       " 'ndim',\n",
       " 'nlevels',\n",
       " 'normalize',\n",
       " 'notna',\n",
       " 'notnull',\n",
       " 'nunique',\n",
       " 'putmask',\n",
       " 'quarter',\n",
       " 'ravel',\n",
       " 'reindex',\n",
       " 'rename',\n",
       " 'repeat',\n",
       " 'resolution',\n",
       " 'round',\n",
       " 'searchsorted',\n",
       " 'second',\n",
       " 'set_names',\n",
       " 'shape',\n",
       " 'shift',\n",
       " 'size',\n",
       " 'slice_indexer',\n",
       " 'slice_locs',\n",
       " 'snap',\n",
       " 'sort',\n",
       " 'sort_values',\n",
       " 'sortlevel',\n",
       " 'std',\n",
       " 'strftime',\n",
       " 'symmetric_difference',\n",
       " 'take',\n",
       " 'time',\n",
       " 'timetz',\n",
       " 'to_flat_index',\n",
       " 'to_frame',\n",
       " 'to_julian_date',\n",
       " 'to_list',\n",
       " 'to_native_types',\n",
       " 'to_numpy',\n",
       " 'to_period',\n",
       " 'to_perioddelta',\n",
       " 'to_pydatetime',\n",
       " 'to_series',\n",
       " 'transpose',\n",
       " 'tz',\n",
       " 'tz_convert',\n",
       " 'tz_localize',\n",
       " 'tzinfo',\n",
       " 'union',\n",
       " 'union_many',\n",
       " 'unique',\n",
       " 'value_counts',\n",
       " 'values',\n",
       " 'view',\n",
       " 'week',\n",
       " 'weekday',\n",
       " 'weekofyear',\n",
       " 'where',\n",
       " 'year']"
      ]
     },
     "execution_count": 50,
     "metadata": {},
     "output_type": "execute_result"
    }
   ],
   "source": [
    "dir(longmont_discharge.index)"
   ]
  },
  {
   "cell_type": "code",
   "execution_count": 51,
   "id": "helpful-society",
   "metadata": {},
   "outputs": [
    {
     "name": "stderr",
     "output_type": "stream",
     "text": [
      "<ipython-input-51-77dbcb2c6534>:1: FutureWarning: weekofyear and week have been deprecated, please use DatetimeIndex.isocalendar().week instead, which returns a Series.  To exactly reproduce the behavior of week and weekofyear and return an Index, you may call pd.Int64Index(idx.isocalendar().week)\n",
      "  longmont_discharge.index.weekofyear[10]\n"
     ]
    },
    {
     "data": {
      "text/plain": [
       "21"
      ]
     },
     "execution_count": 51,
     "metadata": {},
     "output_type": "execute_result"
    }
   ],
   "source": [
    "longmont_discharge.index.weekofyear[10]"
   ]
  },
  {
   "cell_type": "code",
   "execution_count": 52,
   "id": "compliant-native",
   "metadata": {},
   "outputs": [
    {
     "data": {
      "text/plain": [
       "discharge     3.8\n",
       "flag            A\n",
       "year         1946\n",
       "Name: 1946-05-20 00:00:00, dtype: object"
      ]
     },
     "execution_count": 52,
     "metadata": {},
     "output_type": "execute_result"
    }
   ],
   "source": [
    "longmont_discharge.iloc[10]"
   ]
  },
  {
   "cell_type": "markdown",
   "id": "brilliant-biography",
   "metadata": {},
   "source": [
    "Calculate annual max by resampling"
   ]
  },
  {
   "cell_type": "code",
   "execution_count": 53,
   "id": "documentary-treasure",
   "metadata": {},
   "outputs": [
    {
     "data": {
      "text/html": [
       "<div>\n",
       "<style scoped>\n",
       "    .dataframe tbody tr th:only-of-type {\n",
       "        vertical-align: middle;\n",
       "    }\n",
       "\n",
       "    .dataframe tbody tr th {\n",
       "        vertical-align: top;\n",
       "    }\n",
       "\n",
       "    .dataframe thead th {\n",
       "        text-align: right;\n",
       "    }\n",
       "</style>\n",
       "<table border=\"1\" class=\"dataframe\">\n",
       "  <thead>\n",
       "    <tr style=\"text-align: right;\">\n",
       "      <th></th>\n",
       "      <th>discharge</th>\n",
       "      <th>flag</th>\n",
       "      <th>year</th>\n",
       "    </tr>\n",
       "    <tr>\n",
       "      <th>datetime</th>\n",
       "      <th></th>\n",
       "      <th></th>\n",
       "      <th></th>\n",
       "    </tr>\n",
       "  </thead>\n",
       "  <tbody>\n",
       "    <tr>\n",
       "      <th>1946-01-01</th>\n",
       "      <td>99.0</td>\n",
       "      <td>A</td>\n",
       "      <td>1946.0</td>\n",
       "    </tr>\n",
       "    <tr>\n",
       "      <th>1947-01-01</th>\n",
       "      <td>1930.0</td>\n",
       "      <td>A</td>\n",
       "      <td>1947.0</td>\n",
       "    </tr>\n",
       "    <tr>\n",
       "      <th>1948-01-01</th>\n",
       "      <td>339.0</td>\n",
       "      <td>A</td>\n",
       "      <td>1948.0</td>\n",
       "    </tr>\n",
       "    <tr>\n",
       "      <th>1949-01-01</th>\n",
       "      <td>2010.0</td>\n",
       "      <td>A</td>\n",
       "      <td>1949.0</td>\n",
       "    </tr>\n",
       "    <tr>\n",
       "      <th>1950-01-01</th>\n",
       "      <td>NaN</td>\n",
       "      <td>NaN</td>\n",
       "      <td>NaN</td>\n",
       "    </tr>\n",
       "  </tbody>\n",
       "</table>\n",
       "</div>"
      ],
      "text/plain": [
       "            discharge flag    year\n",
       "datetime                          \n",
       "1946-01-01       99.0    A  1946.0\n",
       "1947-01-01     1930.0    A  1947.0\n",
       "1948-01-01      339.0    A  1948.0\n",
       "1949-01-01     2010.0    A  1949.0\n",
       "1950-01-01        NaN  NaN     NaN"
      ]
     },
     "execution_count": 53,
     "metadata": {},
     "output_type": "execute_result"
    }
   ],
   "source": [
    "longmont_discharge_annual_max = longmont_discharge.resample('AS').max()\n",
    "longmont_discharge_annual_max.head()"
   ]
  },
  {
   "cell_type": "markdown",
   "id": "indoor-sacrifice",
   "metadata": {},
   "source": [
    "Download annual peak flow data from USGS"
   ]
  },
  {
   "cell_type": "code",
   "execution_count": 54,
   "id": "choice-princess",
   "metadata": {},
   "outputs": [],
   "source": [
    "url = 'https://nwis.waterdata.usgs.gov/nwis/peak?site_no=06730500&agency_cd=USGS&format=rdb'\n",
    "\n",
    "download_path = os.path.join(os.path.expanduser('~'), 'earth-analytics', 'data',\n",
    "                             'colorado-flood', 'downloads', 'annual-peak-flow.txt')\n",
    "\n",
    "request_return = urllib.request.urlretrieve(url, download_path)"
   ]
  },
  {
   "cell_type": "code",
   "execution_count": 55,
   "id": "damaged-brook",
   "metadata": {},
   "outputs": [
    {
     "data": {
      "text/plain": [
       "('C:\\\\Users\\\\Glen Shennan\\\\earth-analytics\\\\data\\\\colorado-flood\\\\downloads\\\\annual-peak-flow.txt',\n",
       " <http.client.HTTPMessage at 0x2b06f281580>)"
      ]
     },
     "execution_count": 55,
     "metadata": {},
     "output_type": "execute_result"
    }
   ],
   "source": [
    "request_return"
   ]
  },
  {
   "cell_type": "code",
   "execution_count": 56,
   "id": "realistic-basketball",
   "metadata": {},
   "outputs": [
    {
     "data": {
      "text/html": [
       "<div>\n",
       "<style scoped>\n",
       "    .dataframe tbody tr th:only-of-type {\n",
       "        vertical-align: middle;\n",
       "    }\n",
       "\n",
       "    .dataframe tbody tr th {\n",
       "        vertical-align: top;\n",
       "    }\n",
       "\n",
       "    .dataframe thead th {\n",
       "        text-align: right;\n",
       "    }\n",
       "</style>\n",
       "<table border=\"1\" class=\"dataframe\">\n",
       "  <thead>\n",
       "    <tr style=\"text-align: right;\">\n",
       "      <th></th>\n",
       "      <th>peak_va</th>\n",
       "    </tr>\n",
       "    <tr>\n",
       "      <th>peak_dt</th>\n",
       "      <th></th>\n",
       "    </tr>\n",
       "  </thead>\n",
       "  <tbody>\n",
       "    <tr>\n",
       "      <th>1927-07-29</th>\n",
       "      <td>407.0</td>\n",
       "    </tr>\n",
       "    <tr>\n",
       "      <th>1928-06-04</th>\n",
       "      <td>694.0</td>\n",
       "    </tr>\n",
       "    <tr>\n",
       "      <th>1929-07-23</th>\n",
       "      <td>530.0</td>\n",
       "    </tr>\n",
       "    <tr>\n",
       "      <th>1930-08-18</th>\n",
       "      <td>353.0</td>\n",
       "    </tr>\n",
       "    <tr>\n",
       "      <th>1931-05-29</th>\n",
       "      <td>369.0</td>\n",
       "    </tr>\n",
       "  </tbody>\n",
       "</table>\n",
       "</div>"
      ],
      "text/plain": [
       "            peak_va\n",
       "peak_dt            \n",
       "1927-07-29    407.0\n",
       "1928-06-04    694.0\n",
       "1929-07-23    530.0\n",
       "1930-08-18    353.0\n",
       "1931-05-29    369.0"
      ]
     },
     "execution_count": 56,
     "metadata": {},
     "output_type": "execute_result"
    }
   ],
   "source": [
    "usgs_annual_max = pd.read_csv(download_path,\n",
    "                              comment='#',\n",
    "                              sep='\\t',\n",
    "                              parse_dates=['peak_dt'],\n",
    "                              skiprows=[73],\n",
    "                              usecols=['peak_dt', 'peak_va'],\n",
    "                              index_col='peak_dt')\n",
    "\n",
    "usgs_annual_max.head()"
   ]
  },
  {
   "cell_type": "code",
   "execution_count": 57,
   "id": "damaged-lover",
   "metadata": {},
   "outputs": [],
   "source": [
    "usgs_annual_max['year'] = usgs_annual_max.index.year"
   ]
  },
  {
   "cell_type": "markdown",
   "id": "waiting-chambers",
   "metadata": {},
   "source": [
    "Remove duplicate years - keep the max discharge value"
   ]
  },
  {
   "cell_type": "code",
   "execution_count": 58,
   "id": "outstanding-saturn",
   "metadata": {},
   "outputs": [
    {
     "data": {
      "text/html": [
       "<div>\n",
       "<style scoped>\n",
       "    .dataframe tbody tr th:only-of-type {\n",
       "        vertical-align: middle;\n",
       "    }\n",
       "\n",
       "    .dataframe tbody tr th {\n",
       "        vertical-align: top;\n",
       "    }\n",
       "\n",
       "    .dataframe thead th {\n",
       "        text-align: right;\n",
       "    }\n",
       "</style>\n",
       "<table border=\"1\" class=\"dataframe\">\n",
       "  <thead>\n",
       "    <tr style=\"text-align: right;\">\n",
       "      <th></th>\n",
       "      <th>peak_va</th>\n",
       "      <th>year</th>\n",
       "    </tr>\n",
       "    <tr>\n",
       "      <th>peak_dt</th>\n",
       "      <th></th>\n",
       "      <th></th>\n",
       "    </tr>\n",
       "  </thead>\n",
       "  <tbody>\n",
       "    <tr>\n",
       "      <th>1927-07-29</th>\n",
       "      <td>407.0</td>\n",
       "      <td>1927</td>\n",
       "    </tr>\n",
       "    <tr>\n",
       "      <th>1928-06-04</th>\n",
       "      <td>694.0</td>\n",
       "      <td>1928</td>\n",
       "    </tr>\n",
       "    <tr>\n",
       "      <th>1929-07-23</th>\n",
       "      <td>530.0</td>\n",
       "      <td>1929</td>\n",
       "    </tr>\n",
       "    <tr>\n",
       "      <th>1930-08-18</th>\n",
       "      <td>353.0</td>\n",
       "      <td>1930</td>\n",
       "    </tr>\n",
       "    <tr>\n",
       "      <th>1931-05-29</th>\n",
       "      <td>369.0</td>\n",
       "      <td>1931</td>\n",
       "    </tr>\n",
       "  </tbody>\n",
       "</table>\n",
       "</div>"
      ],
      "text/plain": [
       "            peak_va  year\n",
       "peak_dt                  \n",
       "1927-07-29    407.0  1927\n",
       "1928-06-04    694.0  1928\n",
       "1929-07-23    530.0  1929\n",
       "1930-08-18    353.0  1930\n",
       "1931-05-29    369.0  1931"
      ]
     },
     "execution_count": 58,
     "metadata": {},
     "output_type": "execute_result"
    }
   ],
   "source": [
    "usgs_annual_max = usgs_annual_max.sort_values('peak_va', ascending=False).drop_duplicates('year').sort_index()\n",
    "\n",
    "usgs_annual_max.head()"
   ]
  },
  {
   "cell_type": "markdown",
   "id": "collect-conversion",
   "metadata": {},
   "source": [
    "Plot calculated vs USGS annual max flow values"
   ]
  },
  {
   "cell_type": "code",
   "execution_count": 65,
   "id": "processed-mentor",
   "metadata": {},
   "outputs": [
    {
     "data": {
      "image/png": "[encoded data removed]",
      "text/plain": [
       "<Figure size 864x720 with 1 Axes>"
      ]
     },
     "metadata": {
      "needs_background": "light"
     },
     "output_type": "display_data"
    }
   ],
   "source": [
    "f, ax = plt.subplots(figsize=(12,10))\n",
    "\n",
    "ax.plot(usgs_annual_max['year'],\n",
    "        usgs_annual_max['peak_va'],\n",
    "        color='purple',\n",
    "        linestyle=':',\n",
    "        marker='o',\n",
    "        label='USGS Annual Max')\n",
    "\n",
    "ax.plot(longmont_discharge_annual_max['year'],\n",
    "        longmont_discharge_annual_max['discharge'],\n",
    "        color='teal',\n",
    "        linestyle=':',\n",
    "        marker='o',\n",
    "        label='Calculated Annual Max')\n",
    "\n",
    "ax.legend()\n",
    "ax.set_title('Annual Maxima - USGS Peak Flow vs Daily Calculated')\n",
    "\n",
    "plt.show()"
   ]
  },
  {
   "cell_type": "markdown",
   "id": "applied-girlfriend",
   "metadata": {},
   "source": [
    "#### Calculate Cumulative Sum\n",
    "\n",
    "Next create a plot that shows both stream discharge and the total cumulative runnof over the period of interest"
   ]
  },
  {
   "cell_type": "markdown",
   "id": "waiting-perfume",
   "metadata": {},
   "source": [
    "1. Calculate the cumulative sum using the .cumsum() pandas method"
   ]
  },
  {
   "cell_type": "markdown",
   "id": "usual-livestock",
   "metadata": {},
   "source": [
    "The USGS site page gives the drainage area: 447 square miles"
   ]
  },
  {
   "cell_type": "markdown",
   "id": "interracial-hawaii",
   "metadata": {},
   "source": [
    "Convert drainage area to $\\text{km}^{2}$"
   ]
  },
  {
   "cell_type": "code",
   "execution_count": 76,
   "id": "desirable-vacuum",
   "metadata": {},
   "outputs": [
    {
     "name": "stdout",
     "output_type": "stream",
     "text": [
      "The site drainage area in square km is 1157.72553\n"
     ]
    }
   ],
   "source": [
    "miles2_km2 = 2.58999\n",
    "site_drainage = 447\n",
    "longmont_area = site_drainage * miles2_km2\n",
    "\n",
    "print('The site drainage area in square km is {0}'.format(longmont_area))"
   ]
  },
  {
   "cell_type": "markdown",
   "id": "planned-plenty",
   "metadata": {},
   "source": [
    "Next calculate the cumulative sum, convert that to cuf/day then divide by the drainage area"
   ]
  },
  {
   "cell_type": "code",
   "execution_count": 79,
   "id": "homeless-neighbor",
   "metadata": {},
   "outputs": [],
   "source": [
    "convert_to_cub_f_day = 60*60*24"
   ]
  },
  {
   "cell_type": "code",
   "execution_count": 80,
   "id": "existing-athletics",
   "metadata": {},
   "outputs": [
    {
     "data": {
      "text/plain": [
       "100027485.792"
      ]
     },
     "execution_count": 80,
     "metadata": {},
     "output_type": "execute_result"
    }
   ],
   "source": [
    "convert_to_runoff = convert_to_cub_f_day * longmont_area\n",
    "convert_to_runoff"
   ]
  },
  {
   "cell_type": "code",
   "execution_count": 81,
   "id": "perceived-cabinet",
   "metadata": {},
   "outputs": [],
   "source": [
    "# MAR - Mean Annual Runoff"
   ]
  },
  {
   "cell_type": "code",
   "execution_count": 82,
   "id": "level-swaziland",
   "metadata": {},
   "outputs": [
    {
     "data": {
      "text/html": [
       "<div>\n",
       "<style scoped>\n",
       "    .dataframe tbody tr th:only-of-type {\n",
       "        vertical-align: middle;\n",
       "    }\n",
       "\n",
       "    .dataframe tbody tr th {\n",
       "        vertical-align: top;\n",
       "    }\n",
       "\n",
       "    .dataframe thead th {\n",
       "        text-align: right;\n",
       "    }\n",
       "</style>\n",
       "<table border=\"1\" class=\"dataframe\">\n",
       "  <thead>\n",
       "    <tr style=\"text-align: right;\">\n",
       "      <th></th>\n",
       "      <th>discharge</th>\n",
       "      <th>flag</th>\n",
       "      <th>year</th>\n",
       "      <th>cum-sum-vol</th>\n",
       "    </tr>\n",
       "    <tr>\n",
       "      <th>datetime</th>\n",
       "      <th></th>\n",
       "      <th></th>\n",
       "      <th></th>\n",
       "      <th></th>\n",
       "    </tr>\n",
       "  </thead>\n",
       "  <tbody>\n",
       "    <tr>\n",
       "      <th>1946-05-10</th>\n",
       "      <td>16.0</td>\n",
       "      <td>A</td>\n",
       "      <td>1946</td>\n",
       "      <td>1.600440e+09</td>\n",
       "    </tr>\n",
       "    <tr>\n",
       "      <th>1946-05-11</th>\n",
       "      <td>19.0</td>\n",
       "      <td>A</td>\n",
       "      <td>1946</td>\n",
       "      <td>3.500962e+09</td>\n",
       "    </tr>\n",
       "    <tr>\n",
       "      <th>1946-05-12</th>\n",
       "      <td>9.0</td>\n",
       "      <td>A</td>\n",
       "      <td>1946</td>\n",
       "      <td>4.401209e+09</td>\n",
       "    </tr>\n",
       "    <tr>\n",
       "      <th>1946-05-13</th>\n",
       "      <td>3.0</td>\n",
       "      <td>A</td>\n",
       "      <td>1946</td>\n",
       "      <td>4.701292e+09</td>\n",
       "    </tr>\n",
       "    <tr>\n",
       "      <th>1946-05-14</th>\n",
       "      <td>7.8</td>\n",
       "      <td>A</td>\n",
       "      <td>1946</td>\n",
       "      <td>5.481506e+09</td>\n",
       "    </tr>\n",
       "  </tbody>\n",
       "</table>\n",
       "</div>"
      ],
      "text/plain": [
       "            discharge flag  year   cum-sum-vol\n",
       "datetime                                      \n",
       "1946-05-10       16.0    A  1946  1.600440e+09\n",
       "1946-05-11       19.0    A  1946  3.500962e+09\n",
       "1946-05-12        9.0    A  1946  4.401209e+09\n",
       "1946-05-13        3.0    A  1946  4.701292e+09\n",
       "1946-05-14        7.8    A  1946  5.481506e+09"
      ]
     },
     "execution_count": 82,
     "metadata": {},
     "output_type": "execute_result"
    }
   ],
   "source": [
    "longmont_discharge['cum-sum-vol'] = longmont_discharge['discharge'].cumsum() * convert_to_runoff\n",
    "longmont_discharge.head()"
   ]
  },
  {
   "cell_type": "markdown",
   "id": "baking-nurse",
   "metadata": {},
   "source": [
    "#### Plot Cumulative Sum of Runnoff and Daily Mean Discharge Together\n",
    "\n",
    "The plot has two series with different Y axes. The line that makes this work is <code>ax2 = ax.twinx()</code>"
   ]
  },
  {
   "cell_type": "code",
   "execution_count": 84,
   "id": "forced-capture",
   "metadata": {},
   "outputs": [
    {
     "data": {
      "image/png": "[encoded data removed]",
      "text/plain": [
       "<Figure size 864x720 with 2 Axes>"
      ]
     },
     "metadata": {
      "needs_background": "light"
     },
     "output_type": "display_data"
    }
   ],
   "source": [
    "f, ax = plt.subplots(figsize=(12,10))\n",
    "\n",
    "longmont_discharge['cum-sum-vol'].plot(ax=ax, label='Cumulative Volume')\n",
    "\n",
    "ax.set_ylabel('Total Area Runoff', color='b')\n",
    "ax.tick_params('y', colors='b')\n",
    "\n",
    "ax2 = ax.twinx()\n",
    "\n",
    "ax2.scatter(x=longmont_discharge.index,\n",
    "            y=longmont_discharge['discharge'],\n",
    "            marker='o',\n",
    "            s=4,\n",
    "            color='purple',\n",
    "            label='Daily Mean')\n",
    "ax2.set_ylabel('Stream Discharge (CFS)', color='purple')\n",
    "ax2.tick_params('y', colors='purple')\n",
    "ax2.set_ylim(0,10000)\n",
    "\n",
    "ax.set_title('Cumulative Sum & Daily Mean Discharge')\n",
    "ax.legend()\n",
    "\n",
    "# Reposition second legend so it renders under the first legend item\n",
    "ax2.legend(loc='upper left', bbox_to_anchor=(0.0, 0.9))\n",
    "\n",
    "f.tight_layout()\n",
    "\n",
    "plt.show()"
   ]
  }
 ],
 "metadata": {
  "kernelspec": {
   "display_name": "Python 3",
   "language": "python",
   "name": "python3"
  },
  "language_info": {
   "codemirror_mode": {
    "name": "ipython",
    "version": 3
   },
   "file_extension": ".py",
   "mimetype": "text/x-python",
   "name": "python",
   "nbconvert_exporter": "python",
   "pygments_lexer": "ipython3",
   "version": "3.8.6"
  }
 },
 "nbformat": 4,
 "nbformat_minor": 5
}
