{
 "cells": [
  {
   "cell_type": "markdown",
   "id": "usual-webster",
   "metadata": {},
   "source": [
    "## Lesson 1. Why a Hundred Year Flood Can Occur Every Year. Calculate Exceedance Probability and Return Periods in Python"
   ]
  },
  {
   "cell_type": "code",
   "execution_count": 1,
   "id": "ordinary-france",
   "metadata": {},
   "outputs": [],
   "source": [
    "import os\n",
    "import urllib\n",
    "import requests\n",
    "import math\n",
    "import matplotlib.pyplot as plt\n",
    "import seaborn as sns\n",
    "import pandas as pd\n",
    "import earthpy as et\n",
    "import hydrofunctions as hf\n",
    "%matplotlib inline"
   ]
  },
  {
   "cell_type": "code",
   "execution_count": 2,
   "id": "premium-harassment",
   "metadata": {},
   "outputs": [],
   "source": [
    "from pandas.plotting import register_matplotlib_converters\n",
    "register_matplotlib_converters()"
   ]
  },
  {
   "cell_type": "code",
   "execution_count": 3,
   "id": "possible-movie",
   "metadata": {},
   "outputs": [],
   "source": [
    "data_path = et.data.get_data('colorado-flood')\n",
    "file_path = os.path.join(data_path)"
   ]
  },
  {
   "cell_type": "code",
   "execution_count": 4,
   "id": "popular-month",
   "metadata": {},
   "outputs": [],
   "source": [
    "sns.set(font_scale=1.5, style='whitegrid')"
   ]
  },
  {
   "cell_type": "code",
   "execution_count": 5,
   "id": "beginning-dryer",
   "metadata": {},
   "outputs": [],
   "source": [
    "#hf.draw_map(width=960,height=800)"
   ]
  },
  {
   "cell_type": "markdown",
   "id": "boolean-court",
   "metadata": {},
   "source": [
    "Get a list of all stations located in Colorado"
   ]
  },
  {
   "cell_type": "code",
   "execution_count": 6,
   "id": "saving-subdivision",
   "metadata": {},
   "outputs": [],
   "source": [
    "PR = hf.NWIS(stateCd='CO').get_data()"
   ]
  },
  {
   "cell_type": "code",
   "execution_count": 7,
   "id": "increasing-crawford",
   "metadata": {},
   "outputs": [
    {
     "data": {
      "text/plain": [
       "['__class__',\n",
       " '__delattr__',\n",
       " '__dict__',\n",
       " '__dir__',\n",
       " '__doc__',\n",
       " '__eq__',\n",
       " '__format__',\n",
       " '__ge__',\n",
       " '__getattribute__',\n",
       " '__gt__',\n",
       " '__hash__',\n",
       " '__init__',\n",
       " '__init_subclass__',\n",
       " '__le__',\n",
       " '__lt__',\n",
       " '__module__',\n",
       " '__ne__',\n",
       " '__new__',\n",
       " '__reduce__',\n",
       " '__reduce_ex__',\n",
       " '__repr__',\n",
       " '__setattr__',\n",
       " '__sizeof__',\n",
       " '__str__',\n",
       " '__subclasshook__',\n",
       " '__weakref__',\n",
       " 'bBox',\n",
       " 'countyCd',\n",
       " 'df',\n",
       " 'end_date',\n",
       " 'get_data',\n",
       " 'json',\n",
       " 'name',\n",
       " 'ok',\n",
       " 'parameterCd',\n",
       " 'period',\n",
       " 'response',\n",
       " 'service',\n",
       " 'site',\n",
       " 'siteName',\n",
       " 'start_date',\n",
       " 'stateCd',\n",
       " 'station_dict']"
      ]
     },
     "execution_count": 7,
     "metadata": {},
     "output_type": "execute_result"
    }
   ],
   "source": [
    "dir(PR)"
   ]
  },
  {
   "cell_type": "code",
   "execution_count": 8,
   "id": "dense-naples",
   "metadata": {},
   "outputs": [
    {
     "data": {
      "text/plain": [
       "['COLORADO CREEK NEAR SPICER, CO.',\n",
       " 'GRIZZLY CREEK NEAR SPICER, CO.',\n",
       " 'BUFFALO CREEK NEAR HEBRON, CO.',\n",
       " 'GRIZZLY CREEK NEAR HEBRON, CO.',\n",
       " 'GRIZZLY CREEK NEAR WALDEN, CO']"
      ]
     },
     "execution_count": 8,
     "metadata": {},
     "output_type": "execute_result"
    }
   ],
   "source": [
    "PR.siteName[0:5]"
   ]
  },
  {
   "cell_type": "markdown",
   "id": "graphic-enough",
   "metadata": {},
   "source": [
    "Get NWIS mean daily stream flow data"
   ]
  },
  {
   "cell_type": "code",
   "execution_count": 9,
   "id": "convinced-stack",
   "metadata": {},
   "outputs": [],
   "source": [
    "start_date = '1946-05-10'\n",
    "end_date = '2018-08-29'\n",
    "site = '06730500'\n",
    "\n",
    "longmont_response = hf.get_nwis(site, 'dv', start_date, end_date)"
   ]
  },
  {
   "cell_type": "code",
   "execution_count": 10,
   "id": "developing-payroll",
   "metadata": {},
   "outputs": [
    {
     "data": {
      "text/plain": [
       "['__attrs__',\n",
       " '__bool__',\n",
       " '__class__',\n",
       " '__delattr__',\n",
       " '__dict__',\n",
       " '__dir__',\n",
       " '__doc__',\n",
       " '__enter__',\n",
       " '__eq__',\n",
       " '__exit__',\n",
       " '__format__',\n",
       " '__ge__',\n",
       " '__getattribute__',\n",
       " '__getstate__',\n",
       " '__gt__',\n",
       " '__hash__',\n",
       " '__init__',\n",
       " '__init_subclass__',\n",
       " '__iter__',\n",
       " '__le__',\n",
       " '__lt__',\n",
       " '__module__',\n",
       " '__ne__',\n",
       " '__new__',\n",
       " '__nonzero__',\n",
       " '__reduce__',\n",
       " '__reduce_ex__',\n",
       " '__repr__',\n",
       " '__setattr__',\n",
       " '__setstate__',\n",
       " '__sizeof__',\n",
       " '__str__',\n",
       " '__subclasshook__',\n",
       " '__weakref__',\n",
       " '_content',\n",
       " '_content_consumed',\n",
       " '_next',\n",
       " 'apparent_encoding',\n",
       " 'close',\n",
       " 'connection',\n",
       " 'content',\n",
       " 'cookies',\n",
       " 'elapsed',\n",
       " 'encoding',\n",
       " 'headers',\n",
       " 'history',\n",
       " 'is_permanent_redirect',\n",
       " 'is_redirect',\n",
       " 'iter_content',\n",
       " 'iter_lines',\n",
       " 'json',\n",
       " 'links',\n",
       " 'next',\n",
       " 'ok',\n",
       " 'raise_for_status',\n",
       " 'raw',\n",
       " 'reason',\n",
       " 'request',\n",
       " 'status_code',\n",
       " 'text',\n",
       " 'url']"
      ]
     },
     "execution_count": 10,
     "metadata": {},
     "output_type": "execute_result"
    }
   ],
   "source": [
    "dir(longmont_response)"
   ]
  },
  {
   "cell_type": "markdown",
   "id": "described-python",
   "metadata": {},
   "source": [
    "Convert response to json in order to use extract_nwis_df"
   ]
  },
  {
   "cell_type": "code",
   "execution_count": 11,
   "id": "polished-holly",
   "metadata": {},
   "outputs": [],
   "source": [
    "longmont_response = longmont_response.json()"
   ]
  },
  {
   "cell_type": "markdown",
   "id": "broad-connectivity",
   "metadata": {},
   "source": [
    "Get metadata about the data"
   ]
  },
  {
   "cell_type": "code",
   "execution_count": 12,
   "id": "welsh-nylon",
   "metadata": {},
   "outputs": [],
   "source": [
    "longmont_metadata = hf.get_nwis(site, 'dv').json()"
   ]
  },
  {
   "cell_type": "code",
   "execution_count": 13,
   "id": "official-gothic",
   "metadata": {},
   "outputs": [
    {
     "data": {
      "text/plain": [
       "'javax.xml.bind.JAXBElement$GlobalScope'"
      ]
     },
     "execution_count": 13,
     "metadata": {},
     "output_type": "execute_result"
    }
   ],
   "source": [
    "longmont_metadata['scope']"
   ]
  },
  {
   "cell_type": "code",
   "execution_count": 14,
   "id": "sealed-beauty",
   "metadata": {},
   "outputs": [
    {
     "data": {
      "text/plain": [
       "{'name': 'ns1:timeSeriesResponseType',\n",
       " 'declaredType': 'org.cuahsi.waterml.TimeSeriesResponseType',\n",
       " 'scope': 'javax.xml.bind.JAXBElement$GlobalScope',\n",
       " 'value': {'queryInfo': {'queryURL': 'http://waterservices.usgs.gov/nwis/dv/format=json%2C1.1&sites=06730500&parameterCd=00060',\n",
       "   'criteria': {'locationParam': '[ALL:06730500]',\n",
       "    'variableParam': '[00060]',\n",
       "    'parameter': []},\n",
       "   'note': [{'value': '[ALL:06730500]', 'title': 'filter:sites'},\n",
       "    {'value': '[mode=LATEST, modifiedSince=null]',\n",
       "     'title': 'filter:timeRange'},\n",
       "    {'value': 'methodIds=[ALL]', 'title': 'filter:methodId'},\n",
       "    {'value': '2021-02-05T21:44:53.589Z', 'title': 'requestDT'},\n",
       "    {'value': '618af140-67fb-11eb-8624-005056beda50', 'title': 'requestId'},\n",
       "    {'value': 'Provisional data are subject to revision. Go to http://waterdata.usgs.gov/nwis/help/?provisional for more information.',\n",
       "     'title': 'disclaimer'},\n",
       "    {'value': 'caas01', 'title': 'server'}]},\n",
       "  'timeSeries': [{'sourceInfo': {'siteName': 'BOULDER CREEK AT MOUTH NEAR LONGMONT, CO',\n",
       "     'siteCode': [{'value': '06730500',\n",
       "       'network': 'NWIS',\n",
       "       'agencyCode': 'USGS'}],\n",
       "     'timeZoneInfo': {'defaultTimeZone': {'zoneOffset': '-07:00',\n",
       "       'zoneAbbreviation': 'MST'},\n",
       "      'daylightSavingsTimeZone': {'zoneOffset': '-06:00',\n",
       "       'zoneAbbreviation': 'MDT'},\n",
       "      'siteUsesDaylightSavingsTime': True},\n",
       "     'geoLocation': {'geogLocation': {'srs': 'EPSG:4326',\n",
       "       'latitude': 40.13877778,\n",
       "       'longitude': -105.0202222},\n",
       "      'localSiteXY': []},\n",
       "     'note': [],\n",
       "     'siteType': [],\n",
       "     'siteProperty': [{'value': 'ST', 'name': 'siteTypeCd'},\n",
       "      {'value': '10190005', 'name': 'hucCd'},\n",
       "      {'value': '08', 'name': 'stateCd'},\n",
       "      {'value': '08123', 'name': 'countyCd'}]},\n",
       "    'variable': {'variableCode': [{'value': '00060',\n",
       "       'network': 'NWIS',\n",
       "       'vocabulary': 'NWIS:UnitValues',\n",
       "       'variableID': 45807197,\n",
       "       'default': True}],\n",
       "     'variableName': 'Streamflow, ft&#179;/s',\n",
       "     'variableDescription': 'Discharge, cubic feet per second',\n",
       "     'valueType': 'Derived Value',\n",
       "     'unit': {'unitCode': 'ft3/s'},\n",
       "     'options': {'option': [{'value': 'Mean',\n",
       "        'name': 'Statistic',\n",
       "        'optionCode': '00003'}]},\n",
       "     'note': [],\n",
       "     'noDataValue': -999999.0,\n",
       "     'variableProperty': [],\n",
       "     'oid': '45807197'},\n",
       "    'values': [{'value': [{'value': '48.6',\n",
       "        'qualifiers': ['P'],\n",
       "        'dateTime': '2021-02-04T00:00:00.000'}],\n",
       "      'qualifier': [{'qualifierCode': 'P',\n",
       "        'qualifierDescription': 'Provisional data subject to revision.',\n",
       "        'qualifierID': 0,\n",
       "        'network': 'NWIS',\n",
       "        'vocabulary': 'uv_rmk_cd'}],\n",
       "      'qualityControlLevel': [],\n",
       "      'method': [{'methodDescription': '', 'methodID': 17666}],\n",
       "      'source': [],\n",
       "      'offset': [],\n",
       "      'sample': [],\n",
       "      'censorCode': []}],\n",
       "    'name': 'USGS:06730500:00060:00003'}]},\n",
       " 'nil': False,\n",
       " 'globalScope': True,\n",
       " 'typeSubstituted': False}"
      ]
     },
     "execution_count": 14,
     "metadata": {},
     "output_type": "execute_result"
    }
   ],
   "source": [
    "longmont_metadata"
   ]
  },
  {
   "cell_type": "code",
   "execution_count": 15,
   "id": "blind-coalition",
   "metadata": {},
   "outputs": [
    {
     "data": {
      "text/html": [
       "<div>\n",
       "<style scoped>\n",
       "    .dataframe tbody tr th:only-of-type {\n",
       "        vertical-align: middle;\n",
       "    }\n",
       "\n",
       "    .dataframe tbody tr th {\n",
       "        vertical-align: top;\n",
       "    }\n",
       "\n",
       "    .dataframe thead th {\n",
       "        text-align: right;\n",
       "    }\n",
       "</style>\n",
       "<table border=\"1\" class=\"dataframe\">\n",
       "  <thead>\n",
       "    <tr style=\"text-align: right;\">\n",
       "      <th></th>\n",
       "      <th>USGS:06730500:00060:00003</th>\n",
       "      <th>USGS:06730500:00060:00003_qualifiers</th>\n",
       "    </tr>\n",
       "    <tr>\n",
       "      <th>datetime</th>\n",
       "      <th></th>\n",
       "      <th></th>\n",
       "    </tr>\n",
       "  </thead>\n",
       "  <tbody>\n",
       "    <tr>\n",
       "      <th>1946-05-10</th>\n",
       "      <td>16.0</td>\n",
       "      <td>A</td>\n",
       "    </tr>\n",
       "    <tr>\n",
       "      <th>1946-05-11</th>\n",
       "      <td>19.0</td>\n",
       "      <td>A</td>\n",
       "    </tr>\n",
       "    <tr>\n",
       "      <th>1946-05-12</th>\n",
       "      <td>9.0</td>\n",
       "      <td>A</td>\n",
       "    </tr>\n",
       "    <tr>\n",
       "      <th>1946-05-13</th>\n",
       "      <td>3.0</td>\n",
       "      <td>A</td>\n",
       "    </tr>\n",
       "    <tr>\n",
       "      <th>1946-05-14</th>\n",
       "      <td>7.8</td>\n",
       "      <td>A</td>\n",
       "    </tr>\n",
       "  </tbody>\n",
       "</table>\n",
       "</div>"
      ],
      "text/plain": [
       "            USGS:06730500:00060:00003 USGS:06730500:00060:00003_qualifiers\n",
       "datetime                                                                  \n",
       "1946-05-10                       16.0                                    A\n",
       "1946-05-11                       19.0                                    A\n",
       "1946-05-12                        9.0                                    A\n",
       "1946-05-13                        3.0                                    A\n",
       "1946-05-14                        7.8                                    A"
      ]
     },
     "execution_count": 15,
     "metadata": {},
     "output_type": "execute_result"
    }
   ],
   "source": [
    "longmont_discharge = hf.extract_nwis_df(longmont_response)\n",
    "longmont_discharge.head()"
   ]
  },
  {
   "cell_type": "code",
   "execution_count": 16,
   "id": "pretty-course",
   "metadata": {},
   "outputs": [
    {
     "data": {
      "text/html": [
       "<div>\n",
       "<style scoped>\n",
       "    .dataframe tbody tr th:only-of-type {\n",
       "        vertical-align: middle;\n",
       "    }\n",
       "\n",
       "    .dataframe tbody tr th {\n",
       "        vertical-align: top;\n",
       "    }\n",
       "\n",
       "    .dataframe thead th {\n",
       "        text-align: right;\n",
       "    }\n",
       "</style>\n",
       "<table border=\"1\" class=\"dataframe\">\n",
       "  <thead>\n",
       "    <tr style=\"text-align: right;\">\n",
       "      <th></th>\n",
       "      <th>discharge</th>\n",
       "      <th>flag</th>\n",
       "    </tr>\n",
       "    <tr>\n",
       "      <th>datetime</th>\n",
       "      <th></th>\n",
       "      <th></th>\n",
       "    </tr>\n",
       "  </thead>\n",
       "  <tbody>\n",
       "    <tr>\n",
       "      <th>1946-05-10</th>\n",
       "      <td>16.0</td>\n",
       "      <td>A</td>\n",
       "    </tr>\n",
       "    <tr>\n",
       "      <th>1946-05-11</th>\n",
       "      <td>19.0</td>\n",
       "      <td>A</td>\n",
       "    </tr>\n",
       "    <tr>\n",
       "      <th>1946-05-12</th>\n",
       "      <td>9.0</td>\n",
       "      <td>A</td>\n",
       "    </tr>\n",
       "    <tr>\n",
       "      <th>1946-05-13</th>\n",
       "      <td>3.0</td>\n",
       "      <td>A</td>\n",
       "    </tr>\n",
       "    <tr>\n",
       "      <th>1946-05-14</th>\n",
       "      <td>7.8</td>\n",
       "      <td>A</td>\n",
       "    </tr>\n",
       "  </tbody>\n",
       "</table>\n",
       "</div>"
      ],
      "text/plain": [
       "            discharge flag\n",
       "datetime                  \n",
       "1946-05-10       16.0    A\n",
       "1946-05-11       19.0    A\n",
       "1946-05-12        9.0    A\n",
       "1946-05-13        3.0    A\n",
       "1946-05-14        7.8    A"
      ]
     },
     "execution_count": 16,
     "metadata": {},
     "output_type": "execute_result"
    }
   ],
   "source": [
    "longmont_discharge.columns = ['discharge', 'flag']\n",
    "longmont_discharge.head()"
   ]
  },
  {
   "cell_type": "code",
   "execution_count": 17,
   "id": "rising-female",
   "metadata": {},
   "outputs": [
    {
     "data": {
      "image/png": "[encoded data removed]",
      "text/plain": [
       "<Figure size 720x720 with 1 Axes>"
      ]
     },
     "metadata": {},
     "output_type": "display_data"
    }
   ],
   "source": [
    "f, ax = plt.subplots(figsize=(10,10))\n",
    "\n",
    "ax.plot(longmont_discharge.index.values,\n",
    "        longmont_discharge['discharge'],\n",
    "        color='cornflowerblue')\n",
    "ax.set(xlabel='Year',\n",
    "       ylabel='Discharge (cu.f/s) (Daily Mean)',\n",
    "       title = 'Stream Daily Discharge - Station {}\\n1946-2017'.format(site))\n",
    "f.tight_layout()\n",
    "plt.show()"
   ]
  },
  {
   "cell_type": "markdown",
   "id": "proved-founder",
   "metadata": {},
   "source": [
    "#### Annual Maxima"
   ]
  },
  {
   "cell_type": "code",
   "execution_count": 18,
   "id": "mighty-checkout",
   "metadata": {},
   "outputs": [
    {
     "data": {
      "text/html": [
       "<div>\n",
       "<style scoped>\n",
       "    .dataframe tbody tr th:only-of-type {\n",
       "        vertical-align: middle;\n",
       "    }\n",
       "\n",
       "    .dataframe tbody tr th {\n",
       "        vertical-align: top;\n",
       "    }\n",
       "\n",
       "    .dataframe thead th {\n",
       "        text-align: right;\n",
       "    }\n",
       "</style>\n",
       "<table border=\"1\" class=\"dataframe\">\n",
       "  <thead>\n",
       "    <tr style=\"text-align: right;\">\n",
       "      <th></th>\n",
       "      <th>discharge</th>\n",
       "      <th>flag</th>\n",
       "      <th>year</th>\n",
       "    </tr>\n",
       "    <tr>\n",
       "      <th>datetime</th>\n",
       "      <th></th>\n",
       "      <th></th>\n",
       "      <th></th>\n",
       "    </tr>\n",
       "  </thead>\n",
       "  <tbody>\n",
       "    <tr>\n",
       "      <th>1946-05-10</th>\n",
       "      <td>16.0</td>\n",
       "      <td>A</td>\n",
       "      <td>1946</td>\n",
       "    </tr>\n",
       "    <tr>\n",
       "      <th>1946-05-11</th>\n",
       "      <td>19.0</td>\n",
       "      <td>A</td>\n",
       "      <td>1946</td>\n",
       "    </tr>\n",
       "    <tr>\n",
       "      <th>1946-05-12</th>\n",
       "      <td>9.0</td>\n",
       "      <td>A</td>\n",
       "      <td>1946</td>\n",
       "    </tr>\n",
       "    <tr>\n",
       "      <th>1946-05-13</th>\n",
       "      <td>3.0</td>\n",
       "      <td>A</td>\n",
       "      <td>1946</td>\n",
       "    </tr>\n",
       "    <tr>\n",
       "      <th>1946-05-14</th>\n",
       "      <td>7.8</td>\n",
       "      <td>A</td>\n",
       "      <td>1946</td>\n",
       "    </tr>\n",
       "  </tbody>\n",
       "</table>\n",
       "</div>"
      ],
      "text/plain": [
       "            discharge flag  year\n",
       "datetime                        \n",
       "1946-05-10       16.0    A  1946\n",
       "1946-05-11       19.0    A  1946\n",
       "1946-05-12        9.0    A  1946\n",
       "1946-05-13        3.0    A  1946\n",
       "1946-05-14        7.8    A  1946"
      ]
     },
     "execution_count": 18,
     "metadata": {},
     "output_type": "execute_result"
    }
   ],
   "source": [
    "longmont_discharge['year'] = longmont_discharge.index.year\n",
    "longmont_discharge.head()"
   ]
  },
  {
   "cell_type": "markdown",
   "id": "occupational-holiday",
   "metadata": {},
   "source": [
    "Calculate annual max by resampling. 'AS' means year start. Synonymous with 'YS'."
   ]
  },
  {
   "cell_type": "code",
   "execution_count": 19,
   "id": "colored-lottery",
   "metadata": {},
   "outputs": [
    {
     "data": {
      "text/html": [
       "<div>\n",
       "<style scoped>\n",
       "    .dataframe tbody tr th:only-of-type {\n",
       "        vertical-align: middle;\n",
       "    }\n",
       "\n",
       "    .dataframe tbody tr th {\n",
       "        vertical-align: top;\n",
       "    }\n",
       "\n",
       "    .dataframe thead th {\n",
       "        text-align: right;\n",
       "    }\n",
       "</style>\n",
       "<table border=\"1\" class=\"dataframe\">\n",
       "  <thead>\n",
       "    <tr style=\"text-align: right;\">\n",
       "      <th></th>\n",
       "      <th>discharge</th>\n",
       "      <th>flag</th>\n",
       "      <th>year</th>\n",
       "    </tr>\n",
       "    <tr>\n",
       "      <th>datetime</th>\n",
       "      <th></th>\n",
       "      <th></th>\n",
       "      <th></th>\n",
       "    </tr>\n",
       "  </thead>\n",
       "  <tbody>\n",
       "    <tr>\n",
       "      <th>1946-01-01</th>\n",
       "      <td>99.0</td>\n",
       "      <td>A</td>\n",
       "      <td>1946.0</td>\n",
       "    </tr>\n",
       "    <tr>\n",
       "      <th>1947-01-01</th>\n",
       "      <td>1930.0</td>\n",
       "      <td>A</td>\n",
       "      <td>1947.0</td>\n",
       "    </tr>\n",
       "    <tr>\n",
       "      <th>1948-01-01</th>\n",
       "      <td>339.0</td>\n",
       "      <td>A</td>\n",
       "      <td>1948.0</td>\n",
       "    </tr>\n",
       "    <tr>\n",
       "      <th>1949-01-01</th>\n",
       "      <td>2010.0</td>\n",
       "      <td>A</td>\n",
       "      <td>1949.0</td>\n",
       "    </tr>\n",
       "    <tr>\n",
       "      <th>1950-01-01</th>\n",
       "      <td>NaN</td>\n",
       "      <td>NaN</td>\n",
       "      <td>NaN</td>\n",
       "    </tr>\n",
       "  </tbody>\n",
       "</table>\n",
       "</div>"
      ],
      "text/plain": [
       "            discharge flag    year\n",
       "datetime                          \n",
       "1946-01-01       99.0    A  1946.0\n",
       "1947-01-01     1930.0    A  1947.0\n",
       "1948-01-01      339.0    A  1948.0\n",
       "1949-01-01     2010.0    A  1949.0\n",
       "1950-01-01        NaN  NaN     NaN"
      ]
     },
     "execution_count": 19,
     "metadata": {},
     "output_type": "execute_result"
    }
   ],
   "source": [
    "longmont_discharge_annual_max = longmont_discharge.resample('AS').max()\n",
    "longmont_discharge_annual_max.head()"
   ]
  },
  {
   "cell_type": "markdown",
   "id": "continuing-evolution",
   "metadata": {},
   "source": [
    "Next download the yearly max data from USGS"
   ]
  },
  {
   "cell_type": "code",
   "execution_count": 20,
   "id": "together-reasoning",
   "metadata": {},
   "outputs": [
    {
     "data": {
      "text/plain": [
       "('C:\\\\Users\\\\Glen Shennan\\\\earth-analytics\\\\data\\\\colorado-flood\\\\downloads\\\\annual-peak-flow.txt',\n",
       " <http.client.HTTPMessage at 0x1bfa100c8e0>)"
      ]
     },
     "execution_count": 20,
     "metadata": {},
     "output_type": "execute_result"
    }
   ],
   "source": [
    "url = 'https://nwis.waterdata.usgs.gov/nwis/peak?site_no=06730500&agency_cd=USGS&format=rdb'\n",
    "download_path = os.path.join(os.path.expanduser('~'), 'earth-analytics', 'data', 'colorado-flood', 'downloads', 'annual-peak-flow.txt')\n",
    "urllib.request.urlretrieve(url, download_path)"
   ]
  },
  {
   "cell_type": "code",
   "execution_count": 21,
   "id": "white-elizabeth",
   "metadata": {},
   "outputs": [
    {
     "data": {
      "text/plain": [
       "73"
      ]
     },
     "execution_count": 21,
     "metadata": {},
     "output_type": "execute_result"
    }
   ],
   "source": [
    "# Function to count the number of lines with a comment\n",
    "\n",
    "def count_the(file_url):\n",
    "    r = requests.get(file_url, stream=True)\n",
    "    file = r.text\n",
    "    count = 0\n",
    "    for line in file:\n",
    "        if line.startswith('#'):\n",
    "            count += 1\n",
    "    return count\n",
    "\n",
    "lines_to_skip = count_the(url) + 1\n",
    "lines_to_skip"
   ]
  },
  {
   "cell_type": "code",
   "execution_count": 22,
   "id": "consecutive-going",
   "metadata": {},
   "outputs": [
    {
     "data": {
      "text/html": [
       "<div>\n",
       "<style scoped>\n",
       "    .dataframe tbody tr th:only-of-type {\n",
       "        vertical-align: middle;\n",
       "    }\n",
       "\n",
       "    .dataframe tbody tr th {\n",
       "        vertical-align: top;\n",
       "    }\n",
       "\n",
       "    .dataframe thead th {\n",
       "        text-align: right;\n",
       "    }\n",
       "</style>\n",
       "<table border=\"1\" class=\"dataframe\">\n",
       "  <thead>\n",
       "    <tr style=\"text-align: right;\">\n",
       "      <th></th>\n",
       "      <th>peak_va</th>\n",
       "    </tr>\n",
       "    <tr>\n",
       "      <th>peak_dt</th>\n",
       "      <th></th>\n",
       "    </tr>\n",
       "  </thead>\n",
       "  <tbody>\n",
       "    <tr>\n",
       "      <th>1927-07-29</th>\n",
       "      <td>407.0</td>\n",
       "    </tr>\n",
       "    <tr>\n",
       "      <th>1928-06-04</th>\n",
       "      <td>694.0</td>\n",
       "    </tr>\n",
       "    <tr>\n",
       "      <th>1929-07-23</th>\n",
       "      <td>530.0</td>\n",
       "    </tr>\n",
       "    <tr>\n",
       "      <th>1930-08-18</th>\n",
       "      <td>353.0</td>\n",
       "    </tr>\n",
       "    <tr>\n",
       "      <th>1931-05-29</th>\n",
       "      <td>369.0</td>\n",
       "    </tr>\n",
       "  </tbody>\n",
       "</table>\n",
       "</div>"
      ],
      "text/plain": [
       "            peak_va\n",
       "peak_dt            \n",
       "1927-07-29    407.0\n",
       "1928-06-04    694.0\n",
       "1929-07-23    530.0\n",
       "1930-08-18    353.0\n",
       "1931-05-29    369.0"
      ]
     },
     "execution_count": 22,
     "metadata": {},
     "output_type": "execute_result"
    }
   ],
   "source": [
    "usgs_annual_max = pd.read_csv(download_path,\n",
    "                              skiprows = [lines_to_skip],\n",
    "                              comment = '#',\n",
    "                              sep = '\\t',\n",
    "                              usecols = ['peak_dt', 'peak_va'],\n",
    "                              parse_dates = ['peak_dt'],\n",
    "                              index_col = ['peak_dt'])\n",
    "\n",
    "usgs_annual_max.head()"
   ]
  },
  {
   "cell_type": "markdown",
   "id": "bulgarian-peripheral",
   "metadata": {},
   "source": [
    "Are there any years that have more than one entry?"
   ]
  },
  {
   "cell_type": "code",
   "execution_count": 23,
   "id": "competent-excitement",
   "metadata": {},
   "outputs": [
    {
     "data": {
      "text/html": [
       "<div>\n",
       "<style scoped>\n",
       "    .dataframe tbody tr th:only-of-type {\n",
       "        vertical-align: middle;\n",
       "    }\n",
       "\n",
       "    .dataframe tbody tr th {\n",
       "        vertical-align: top;\n",
       "    }\n",
       "\n",
       "    .dataframe thead th {\n",
       "        text-align: right;\n",
       "    }\n",
       "</style>\n",
       "<table border=\"1\" class=\"dataframe\">\n",
       "  <thead>\n",
       "    <tr style=\"text-align: right;\">\n",
       "      <th></th>\n",
       "      <th>peak_va</th>\n",
       "      <th>year</th>\n",
       "    </tr>\n",
       "    <tr>\n",
       "      <th>peak_dt</th>\n",
       "      <th></th>\n",
       "      <th></th>\n",
       "    </tr>\n",
       "  </thead>\n",
       "  <tbody>\n",
       "    <tr>\n",
       "      <th>1927-07-29</th>\n",
       "      <td>407.0</td>\n",
       "      <td>1927</td>\n",
       "    </tr>\n",
       "    <tr>\n",
       "      <th>1928-06-04</th>\n",
       "      <td>694.0</td>\n",
       "      <td>1928</td>\n",
       "    </tr>\n",
       "    <tr>\n",
       "      <th>1929-07-23</th>\n",
       "      <td>530.0</td>\n",
       "      <td>1929</td>\n",
       "    </tr>\n",
       "    <tr>\n",
       "      <th>1930-08-18</th>\n",
       "      <td>353.0</td>\n",
       "      <td>1930</td>\n",
       "    </tr>\n",
       "    <tr>\n",
       "      <th>1931-05-29</th>\n",
       "      <td>369.0</td>\n",
       "      <td>1931</td>\n",
       "    </tr>\n",
       "  </tbody>\n",
       "</table>\n",
       "</div>"
      ],
      "text/plain": [
       "            peak_va  year\n",
       "peak_dt                  \n",
       "1927-07-29    407.0  1927\n",
       "1928-06-04    694.0  1928\n",
       "1929-07-23    530.0  1929\n",
       "1930-08-18    353.0  1930\n",
       "1931-05-29    369.0  1931"
      ]
     },
     "execution_count": 23,
     "metadata": {},
     "output_type": "execute_result"
    }
   ],
   "source": [
    "usgs_annual_max['year'] = usgs_annual_max.index.year\n",
    "usgs_annual_max.head()"
   ]
  },
  {
   "cell_type": "code",
   "execution_count": 24,
   "id": "falling-month",
   "metadata": {},
   "outputs": [
    {
     "data": {
      "text/html": [
       "<div>\n",
       "<style scoped>\n",
       "    .dataframe tbody tr th:only-of-type {\n",
       "        vertical-align: middle;\n",
       "    }\n",
       "\n",
       "    .dataframe tbody tr th {\n",
       "        vertical-align: top;\n",
       "    }\n",
       "\n",
       "    .dataframe thead th {\n",
       "        text-align: right;\n",
       "    }\n",
       "</style>\n",
       "<table border=\"1\" class=\"dataframe\">\n",
       "  <thead>\n",
       "    <tr style=\"text-align: right;\">\n",
       "      <th></th>\n",
       "      <th>peak_va</th>\n",
       "      <th>year</th>\n",
       "    </tr>\n",
       "    <tr>\n",
       "      <th>peak_dt</th>\n",
       "      <th></th>\n",
       "      <th></th>\n",
       "    </tr>\n",
       "  </thead>\n",
       "  <tbody>\n",
       "    <tr>\n",
       "      <th>1947-10-15</th>\n",
       "      <td>721.0</td>\n",
       "      <td>1947</td>\n",
       "    </tr>\n",
       "    <tr>\n",
       "      <th>1993-10-18</th>\n",
       "      <td>497.0</td>\n",
       "      <td>1993</td>\n",
       "    </tr>\n",
       "  </tbody>\n",
       "</table>\n",
       "</div>"
      ],
      "text/plain": [
       "            peak_va  year\n",
       "peak_dt                  \n",
       "1947-10-15    721.0  1947\n",
       "1993-10-18    497.0  1993"
      ]
     },
     "execution_count": 24,
     "metadata": {},
     "output_type": "execute_result"
    }
   ],
   "source": [
    "usgs_annual_max[usgs_annual_max.duplicated(subset='year') == True]"
   ]
  },
  {
   "cell_type": "code",
   "execution_count": 25,
   "id": "above-tsunami",
   "metadata": {},
   "outputs": [
    {
     "data": {
      "text/html": [
       "<div>\n",
       "<style scoped>\n",
       "    .dataframe tbody tr th:only-of-type {\n",
       "        vertical-align: middle;\n",
       "    }\n",
       "\n",
       "    .dataframe tbody tr th {\n",
       "        vertical-align: top;\n",
       "    }\n",
       "\n",
       "    .dataframe thead th {\n",
       "        text-align: right;\n",
       "    }\n",
       "</style>\n",
       "<table border=\"1\" class=\"dataframe\">\n",
       "  <thead>\n",
       "    <tr style=\"text-align: right;\">\n",
       "      <th></th>\n",
       "      <th>peak_va</th>\n",
       "      <th>year</th>\n",
       "    </tr>\n",
       "    <tr>\n",
       "      <th>peak_dt</th>\n",
       "      <th></th>\n",
       "      <th></th>\n",
       "    </tr>\n",
       "  </thead>\n",
       "  <tbody>\n",
       "  </tbody>\n",
       "</table>\n",
       "</div>"
      ],
      "text/plain": [
       "Empty DataFrame\n",
       "Columns: [peak_va, year]\n",
       "Index: []"
      ]
     },
     "execution_count": 25,
     "metadata": {},
     "output_type": "execute_result"
    }
   ],
   "source": [
    "# Remove duplicate years - keep max discharge value\n",
    "usgs_annual_max = usgs_annual_max.sort_values('peak_va', ascending=False).drop_duplicates('year').sort_index()\n",
    "\n",
    "# If this returns no results then duplicates have been successfully removed\n",
    "usgs_annual_max[usgs_annual_max.duplicated(subset='year') == True]"
   ]
  },
  {
   "cell_type": "code",
   "execution_count": 26,
   "id": "alert-vitamin",
   "metadata": {},
   "outputs": [
    {
     "data": {
      "image/png": "[encoded data removed]",
      "text/plain": [
       "<Figure size 720x720 with 1 Axes>"
      ]
     },
     "metadata": {},
     "output_type": "display_data"
    }
   ],
   "source": [
    "f, ax = plt.subplots(figsize=(10,10))\n",
    "\n",
    "ax.plot(longmont_discharge_annual_max.index.values,\n",
    "        longmont_discharge_annual_max['discharge'],\n",
    "        color='cornflowerblue',\n",
    "        label='Resampled data',\n",
    "        linestyle=':',\n",
    "        marker='o')\n",
    "\n",
    "ax.set(xlabel='Year',\n",
    "       ylabel='Discharge (cu.f/s) (Daily Mean)',\n",
    "       title = 'Stream Daily Discharge - Station {}\\n1946-2017'.format(site))\n",
    "\n",
    "ax.plot(usgs_annual_max.index.values,\n",
    "        usgs_annual_max['peak_va'],\n",
    "        color='darkseagreen',\n",
    "        label='USGS data',\n",
    "        linestyle=':',\n",
    "        marker='o')\n",
    "\n",
    "f.tight_layout()\n",
    "plt.show()"
   ]
  },
  {
   "cell_type": "markdown",
   "id": "ordinary-script",
   "metadata": {},
   "source": [
    "#### Optional - Difference Bar Plot"
   ]
  },
  {
   "cell_type": "code",
   "execution_count": 27,
   "id": "about-sheriff",
   "metadata": {},
   "outputs": [
    {
     "data": {
      "text/html": [
       "<div>\n",
       "<style scoped>\n",
       "    .dataframe tbody tr th:only-of-type {\n",
       "        vertical-align: middle;\n",
       "    }\n",
       "\n",
       "    .dataframe tbody tr th {\n",
       "        vertical-align: top;\n",
       "    }\n",
       "\n",
       "    .dataframe thead th {\n",
       "        text-align: right;\n",
       "    }\n",
       "</style>\n",
       "<table border=\"1\" class=\"dataframe\">\n",
       "  <thead>\n",
       "    <tr style=\"text-align: right;\">\n",
       "      <th></th>\n",
       "      <th>discharge</th>\n",
       "      <th>flag</th>\n",
       "      <th>year</th>\n",
       "      <th>peak_va</th>\n",
       "    </tr>\n",
       "  </thead>\n",
       "  <tbody>\n",
       "    <tr>\n",
       "      <th>0</th>\n",
       "      <td>99.0</td>\n",
       "      <td>A</td>\n",
       "      <td>1946.0</td>\n",
       "      <td>178.0</td>\n",
       "    </tr>\n",
       "    <tr>\n",
       "      <th>1</th>\n",
       "      <td>1930.0</td>\n",
       "      <td>A</td>\n",
       "      <td>1947.0</td>\n",
       "      <td>2040.0</td>\n",
       "    </tr>\n",
       "    <tr>\n",
       "      <th>2</th>\n",
       "      <td>2010.0</td>\n",
       "      <td>A</td>\n",
       "      <td>1949.0</td>\n",
       "      <td>2020.0</td>\n",
       "    </tr>\n",
       "    <tr>\n",
       "      <th>3</th>\n",
       "      <td>1030.0</td>\n",
       "      <td>A</td>\n",
       "      <td>1951.0</td>\n",
       "      <td>1540.0</td>\n",
       "    </tr>\n",
       "    <tr>\n",
       "      <th>4</th>\n",
       "      <td>1460.0</td>\n",
       "      <td>A</td>\n",
       "      <td>1952.0</td>\n",
       "      <td>1990.0</td>\n",
       "    </tr>\n",
       "  </tbody>\n",
       "</table>\n",
       "</div>"
      ],
      "text/plain": [
       "   discharge flag    year  peak_va\n",
       "0       99.0    A  1946.0    178.0\n",
       "1     1930.0    A  1947.0   2040.0\n",
       "2     2010.0    A  1949.0   2020.0\n",
       "3     1030.0    A  1951.0   1540.0\n",
       "4     1460.0    A  1952.0   1990.0"
      ]
     },
     "execution_count": 27,
     "metadata": {},
     "output_type": "execute_result"
    }
   ],
   "source": [
    "usgs_calculated = pd.merge(longmont_discharge_annual_max,\n",
    "                           usgs_annual_max,\n",
    "                           left_on='year',\n",
    "                           right_on='year',)\n",
    "usgs_calculated.head()"
   ]
  },
  {
   "cell_type": "code",
   "execution_count": 28,
   "id": "lesser-myrtle",
   "metadata": {},
   "outputs": [
    {
     "data": {
      "text/html": [
       "<div>\n",
       "<style scoped>\n",
       "    .dataframe tbody tr th:only-of-type {\n",
       "        vertical-align: middle;\n",
       "    }\n",
       "\n",
       "    .dataframe tbody tr th {\n",
       "        vertical-align: top;\n",
       "    }\n",
       "\n",
       "    .dataframe thead th {\n",
       "        text-align: right;\n",
       "    }\n",
       "</style>\n",
       "<table border=\"1\" class=\"dataframe\">\n",
       "  <thead>\n",
       "    <tr style=\"text-align: right;\">\n",
       "      <th></th>\n",
       "      <th>discharge</th>\n",
       "      <th>flag</th>\n",
       "      <th>year</th>\n",
       "      <th>peak_va</th>\n",
       "      <th>diff</th>\n",
       "    </tr>\n",
       "  </thead>\n",
       "  <tbody>\n",
       "    <tr>\n",
       "      <th>0</th>\n",
       "      <td>99.0</td>\n",
       "      <td>A</td>\n",
       "      <td>1946.0</td>\n",
       "      <td>178.0</td>\n",
       "      <td>79.0</td>\n",
       "    </tr>\n",
       "    <tr>\n",
       "      <th>1</th>\n",
       "      <td>1930.0</td>\n",
       "      <td>A</td>\n",
       "      <td>1947.0</td>\n",
       "      <td>2040.0</td>\n",
       "      <td>110.0</td>\n",
       "    </tr>\n",
       "    <tr>\n",
       "      <th>2</th>\n",
       "      <td>2010.0</td>\n",
       "      <td>A</td>\n",
       "      <td>1949.0</td>\n",
       "      <td>2020.0</td>\n",
       "      <td>10.0</td>\n",
       "    </tr>\n",
       "    <tr>\n",
       "      <th>3</th>\n",
       "      <td>1030.0</td>\n",
       "      <td>A</td>\n",
       "      <td>1951.0</td>\n",
       "      <td>1540.0</td>\n",
       "      <td>510.0</td>\n",
       "    </tr>\n",
       "    <tr>\n",
       "      <th>4</th>\n",
       "      <td>1460.0</td>\n",
       "      <td>A</td>\n",
       "      <td>1952.0</td>\n",
       "      <td>1990.0</td>\n",
       "      <td>530.0</td>\n",
       "    </tr>\n",
       "  </tbody>\n",
       "</table>\n",
       "</div>"
      ],
      "text/plain": [
       "   discharge flag    year  peak_va   diff\n",
       "0       99.0    A  1946.0    178.0   79.0\n",
       "1     1930.0    A  1947.0   2040.0  110.0\n",
       "2     2010.0    A  1949.0   2020.0   10.0\n",
       "3     1030.0    A  1951.0   1540.0  510.0\n",
       "4     1460.0    A  1952.0   1990.0  530.0"
      ]
     },
     "execution_count": 28,
     "metadata": {},
     "output_type": "execute_result"
    }
   ],
   "source": [
    "usgs_calculated['diff'] = usgs_calculated['peak_va'] - usgs_calculated['discharge']\n",
    "usgs_calculated.head()"
   ]
  },
  {
   "cell_type": "code",
   "execution_count": 29,
   "id": "speaking-reconstruction",
   "metadata": {},
   "outputs": [
    {
     "data": {
      "image/png": "[encoded data removed]",
      "text/plain": [
       "<Figure size 864x864 with 1 Axes>"
      ]
     },
     "metadata": {},
     "output_type": "display_data"
    }
   ],
   "source": [
    "f, ax = plt.subplots(figsize=(12,12))\n",
    "\n",
    "ax.bar(usgs_calculated['year'],\n",
    "       usgs_calculated['diff'],\n",
    "       color='forestgreen')\n",
    "ax.set(xlabel='Year',\n",
    "       ylabel='Difference (cuF/s)',\n",
    "       title='Difference between calculated and downloaded\\nstream discharge values')\n",
    "\n",
    "f.tight_layout()\n",
    "plt.show()"
   ]
  },
  {
   "cell_type": "markdown",
   "id": "literary-palmer",
   "metadata": {},
   "source": [
    "## Calculate Return Period"
   ]
  },
  {
   "cell_type": "markdown",
   "id": "ceramic-rover",
   "metadata": {},
   "source": [
    "Sort data from smallest to largest"
   ]
  },
  {
   "cell_type": "code",
   "execution_count": 30,
   "id": "civil-shareware",
   "metadata": {},
   "outputs": [],
   "source": [
    "longmont_discharge_sorted = longmont_discharge.sort_values(by='discharge')"
   ]
  },
  {
   "cell_type": "markdown",
   "id": "eligible-north",
   "metadata": {},
   "source": [
    "Count total observations"
   ]
  },
  {
   "cell_type": "code",
   "execution_count": 31,
   "id": "changing-michael",
   "metadata": {},
   "outputs": [],
   "source": [
    "n = longmont_discharge_sorted.shape[0]"
   ]
  },
  {
   "cell_type": "markdown",
   "id": "mature-matter",
   "metadata": {},
   "source": [
    "Add a number column 1 -> n to use for rank"
   ]
  },
  {
   "cell_type": "code",
   "execution_count": 32,
   "id": "every-differential",
   "metadata": {},
   "outputs": [
    {
     "data": {
      "text/html": [
       "<div>\n",
       "<style scoped>\n",
       "    .dataframe tbody tr th:only-of-type {\n",
       "        vertical-align: middle;\n",
       "    }\n",
       "\n",
       "    .dataframe tbody tr th {\n",
       "        vertical-align: top;\n",
       "    }\n",
       "\n",
       "    .dataframe thead th {\n",
       "        text-align: right;\n",
       "    }\n",
       "</style>\n",
       "<table border=\"1\" class=\"dataframe\">\n",
       "  <thead>\n",
       "    <tr style=\"text-align: right;\">\n",
       "      <th></th>\n",
       "      <th>rank</th>\n",
       "      <th>discharge</th>\n",
       "      <th>flag</th>\n",
       "      <th>year</th>\n",
       "    </tr>\n",
       "    <tr>\n",
       "      <th>datetime</th>\n",
       "      <th></th>\n",
       "      <th></th>\n",
       "      <th></th>\n",
       "      <th></th>\n",
       "    </tr>\n",
       "  </thead>\n",
       "  <tbody>\n",
       "    <tr>\n",
       "      <th>1954-08-10</th>\n",
       "      <td>1</td>\n",
       "      <td>0.0</td>\n",
       "      <td>A</td>\n",
       "      <td>1954</td>\n",
       "    </tr>\n",
       "    <tr>\n",
       "      <th>1946-07-05</th>\n",
       "      <td>2</td>\n",
       "      <td>0.0</td>\n",
       "      <td>A</td>\n",
       "      <td>1946</td>\n",
       "    </tr>\n",
       "    <tr>\n",
       "      <th>1946-06-25</th>\n",
       "      <td>3</td>\n",
       "      <td>0.0</td>\n",
       "      <td>A</td>\n",
       "      <td>1946</td>\n",
       "    </tr>\n",
       "    <tr>\n",
       "      <th>1954-08-08</th>\n",
       "      <td>4</td>\n",
       "      <td>0.1</td>\n",
       "      <td>A</td>\n",
       "      <td>1954</td>\n",
       "    </tr>\n",
       "    <tr>\n",
       "      <th>1955-04-25</th>\n",
       "      <td>5</td>\n",
       "      <td>0.2</td>\n",
       "      <td>A</td>\n",
       "      <td>1955</td>\n",
       "    </tr>\n",
       "  </tbody>\n",
       "</table>\n",
       "</div>"
      ],
      "text/plain": [
       "            rank  discharge flag  year\n",
       "datetime                              \n",
       "1954-08-10     1        0.0    A  1954\n",
       "1946-07-05     2        0.0    A  1946\n",
       "1946-06-25     3        0.0    A  1946\n",
       "1954-08-08     4        0.1    A  1954\n",
       "1955-04-25     5        0.2    A  1955"
      ]
     },
     "execution_count": 32,
     "metadata": {},
     "output_type": "execute_result"
    }
   ],
   "source": [
    "longmont_discharge_sorted.insert(0, 'rank', range(1, 1+n))\n",
    "longmont_discharge_sorted.head()"
   ]
  },
  {
   "cell_type": "markdown",
   "id": "unexpected-slave",
   "metadata": {},
   "source": [
    "Calculate probability. This may need to be adjusted based on the time period of the data."
   ]
  },
  {
   "cell_type": "code",
   "execution_count": 33,
   "id": "hungarian-serve",
   "metadata": {},
   "outputs": [
    {
     "data": {
      "text/html": [
       "<div>\n",
       "<style scoped>\n",
       "    .dataframe tbody tr th:only-of-type {\n",
       "        vertical-align: middle;\n",
       "    }\n",
       "\n",
       "    .dataframe tbody tr th {\n",
       "        vertical-align: top;\n",
       "    }\n",
       "\n",
       "    .dataframe thead th {\n",
       "        text-align: right;\n",
       "    }\n",
       "</style>\n",
       "<table border=\"1\" class=\"dataframe\">\n",
       "  <thead>\n",
       "    <tr style=\"text-align: right;\">\n",
       "      <th></th>\n",
       "      <th>rank</th>\n",
       "      <th>discharge</th>\n",
       "      <th>flag</th>\n",
       "      <th>year</th>\n",
       "      <th>probability</th>\n",
       "      <th>return-years</th>\n",
       "    </tr>\n",
       "    <tr>\n",
       "      <th>datetime</th>\n",
       "      <th></th>\n",
       "      <th></th>\n",
       "      <th></th>\n",
       "      <th></th>\n",
       "      <th></th>\n",
       "      <th></th>\n",
       "    </tr>\n",
       "  </thead>\n",
       "  <tbody>\n",
       "    <tr>\n",
       "      <th>1954-08-10</th>\n",
       "      <td>1</td>\n",
       "      <td>0.0</td>\n",
       "      <td>A</td>\n",
       "      <td>1954</td>\n",
       "      <td>0.999941</td>\n",
       "      <td>1.000059</td>\n",
       "    </tr>\n",
       "    <tr>\n",
       "      <th>1946-07-05</th>\n",
       "      <td>2</td>\n",
       "      <td>0.0</td>\n",
       "      <td>A</td>\n",
       "      <td>1946</td>\n",
       "      <td>0.999883</td>\n",
       "      <td>1.000117</td>\n",
       "    </tr>\n",
       "    <tr>\n",
       "      <th>1946-06-25</th>\n",
       "      <td>3</td>\n",
       "      <td>0.0</td>\n",
       "      <td>A</td>\n",
       "      <td>1946</td>\n",
       "      <td>0.999824</td>\n",
       "      <td>1.000176</td>\n",
       "    </tr>\n",
       "    <tr>\n",
       "      <th>1954-08-08</th>\n",
       "      <td>4</td>\n",
       "      <td>0.1</td>\n",
       "      <td>A</td>\n",
       "      <td>1954</td>\n",
       "      <td>0.999766</td>\n",
       "      <td>1.000234</td>\n",
       "    </tr>\n",
       "    <tr>\n",
       "      <th>1955-04-25</th>\n",
       "      <td>5</td>\n",
       "      <td>0.2</td>\n",
       "      <td>A</td>\n",
       "      <td>1955</td>\n",
       "      <td>0.999707</td>\n",
       "      <td>1.000293</td>\n",
       "    </tr>\n",
       "  </tbody>\n",
       "</table>\n",
       "</div>"
      ],
      "text/plain": [
       "            rank  discharge flag  year  probability  return-years\n",
       "datetime                                                         \n",
       "1954-08-10     1        0.0    A  1954     0.999941      1.000059\n",
       "1946-07-05     2        0.0    A  1946     0.999883      1.000117\n",
       "1946-06-25     3        0.0    A  1946     0.999824      1.000176\n",
       "1954-08-08     4        0.1    A  1954     0.999766      1.000234\n",
       "1955-04-25     5        0.2    A  1955     0.999707      1.000293"
      ]
     },
     "execution_count": 33,
     "metadata": {},
     "output_type": "execute_result"
    }
   ],
   "source": [
    "longmont_discharge_sorted['probability'] = (\n",
    "    (n - longmont_discharge_sorted['rank'] + 1) / (n + 1))\n",
    "longmont_discharge_sorted['return-years'] = (\n",
    "    1 / longmont_discharge_sorted['probability'])\n",
    "longmont_discharge_sorted.head()"
   ]
  },
  {
   "cell_type": "markdown",
   "id": "intimate-influence",
   "metadata": {},
   "source": [
    "Turn the above into a function"
   ]
  },
  {
   "cell_type": "code",
   "execution_count": 34,
   "id": "medical-mouth",
   "metadata": {},
   "outputs": [],
   "source": [
    "def calculate_return(df, colname):\n",
    "    \"\"\"\n",
    "    Calculate probability and return years for a df\n",
    "    \n",
    "    Accepts pandas DataFrame df with disharge values in colname.\n",
    "    \n",
    "    Returns df with columns 'probability' and 'return-years' added.\n",
    "    \"\"\"\n",
    "    \n",
    "    df_sorted = df.sort_values(colname)\n",
    "    \n",
    "    n = df_sorted.shape[0]\n",
    "    \n",
    "    df_sorted.insert(0, 'rank', range(1, 1+n))\n",
    "    \n",
    "    # Calculate probability\n",
    "    df_sorted['probability'] = (n - df_sorted['rank'] + 1) / (n + 1)\n",
    "    \n",
    "    # Calculate return period (years)\n",
    "    df_sorted['return-years'] = 1 / df_sorted['probability']\n",
    "    \n",
    "    return df_sorted"
   ]
  },
  {
   "cell_type": "code",
   "execution_count": 35,
   "id": "unauthorized-mistake",
   "metadata": {},
   "outputs": [
    {
     "data": {
      "text/html": [
       "<div>\n",
       "<style scoped>\n",
       "    .dataframe tbody tr th:only-of-type {\n",
       "        vertical-align: middle;\n",
       "    }\n",
       "\n",
       "    .dataframe tbody tr th {\n",
       "        vertical-align: top;\n",
       "    }\n",
       "\n",
       "    .dataframe thead th {\n",
       "        text-align: right;\n",
       "    }\n",
       "</style>\n",
       "<table border=\"1\" class=\"dataframe\">\n",
       "  <thead>\n",
       "    <tr style=\"text-align: right;\">\n",
       "      <th></th>\n",
       "      <th>discharge</th>\n",
       "      <th>flag</th>\n",
       "      <th>year</th>\n",
       "    </tr>\n",
       "    <tr>\n",
       "      <th>datetime</th>\n",
       "      <th></th>\n",
       "      <th></th>\n",
       "      <th></th>\n",
       "    </tr>\n",
       "  </thead>\n",
       "  <tbody>\n",
       "    <tr>\n",
       "      <th>1946-05-10</th>\n",
       "      <td>16.0</td>\n",
       "      <td>A</td>\n",
       "      <td>1946</td>\n",
       "    </tr>\n",
       "    <tr>\n",
       "      <th>1946-05-11</th>\n",
       "      <td>19.0</td>\n",
       "      <td>A</td>\n",
       "      <td>1946</td>\n",
       "    </tr>\n",
       "    <tr>\n",
       "      <th>1946-05-12</th>\n",
       "      <td>9.0</td>\n",
       "      <td>A</td>\n",
       "      <td>1946</td>\n",
       "    </tr>\n",
       "    <tr>\n",
       "      <th>1946-05-13</th>\n",
       "      <td>3.0</td>\n",
       "      <td>A</td>\n",
       "      <td>1946</td>\n",
       "    </tr>\n",
       "    <tr>\n",
       "      <th>1946-05-14</th>\n",
       "      <td>7.8</td>\n",
       "      <td>A</td>\n",
       "      <td>1946</td>\n",
       "    </tr>\n",
       "  </tbody>\n",
       "</table>\n",
       "</div>"
      ],
      "text/plain": [
       "            discharge flag  year\n",
       "datetime                        \n",
       "1946-05-10       16.0    A  1946\n",
       "1946-05-11       19.0    A  1946\n",
       "1946-05-12        9.0    A  1946\n",
       "1946-05-13        3.0    A  1946\n",
       "1946-05-14        7.8    A  1946"
      ]
     },
     "execution_count": 35,
     "metadata": {},
     "output_type": "execute_result"
    }
   ],
   "source": [
    "longmont_discharge.head()"
   ]
  },
  {
   "cell_type": "code",
   "execution_count": 36,
   "id": "sublime-roulette",
   "metadata": {},
   "outputs": [
    {
     "data": {
      "text/html": [
       "<div>\n",
       "<style scoped>\n",
       "    .dataframe tbody tr th:only-of-type {\n",
       "        vertical-align: middle;\n",
       "    }\n",
       "\n",
       "    .dataframe tbody tr th {\n",
       "        vertical-align: top;\n",
       "    }\n",
       "\n",
       "    .dataframe thead th {\n",
       "        text-align: right;\n",
       "    }\n",
       "</style>\n",
       "<table border=\"1\" class=\"dataframe\">\n",
       "  <thead>\n",
       "    <tr style=\"text-align: right;\">\n",
       "      <th></th>\n",
       "      <th>rank</th>\n",
       "      <th>discharge</th>\n",
       "      <th>flag</th>\n",
       "      <th>year</th>\n",
       "      <th>probability</th>\n",
       "      <th>return-years</th>\n",
       "    </tr>\n",
       "    <tr>\n",
       "      <th>datetime</th>\n",
       "      <th></th>\n",
       "      <th></th>\n",
       "      <th></th>\n",
       "      <th></th>\n",
       "      <th></th>\n",
       "      <th></th>\n",
       "    </tr>\n",
       "  </thead>\n",
       "  <tbody>\n",
       "    <tr>\n",
       "      <th>2013-09-16</th>\n",
       "      <td>17078</td>\n",
       "      <td>3270.0</td>\n",
       "      <td>A e</td>\n",
       "      <td>2013</td>\n",
       "      <td>0.000293</td>\n",
       "      <td>9.360548</td>\n",
       "    </tr>\n",
       "    <tr>\n",
       "      <th>2013-09-12</th>\n",
       "      <td>17079</td>\n",
       "      <td>3680.0</td>\n",
       "      <td>A</td>\n",
       "      <td>2013</td>\n",
       "      <td>0.000234</td>\n",
       "      <td>11.700685</td>\n",
       "    </tr>\n",
       "    <tr>\n",
       "      <th>2013-09-15</th>\n",
       "      <td>17080</td>\n",
       "      <td>3970.0</td>\n",
       "      <td>A e</td>\n",
       "      <td>2013</td>\n",
       "      <td>0.000176</td>\n",
       "      <td>15.600913</td>\n",
       "    </tr>\n",
       "    <tr>\n",
       "      <th>2013-09-14</th>\n",
       "      <td>17081</td>\n",
       "      <td>4970.0</td>\n",
       "      <td>A e</td>\n",
       "      <td>2013</td>\n",
       "      <td>0.000117</td>\n",
       "      <td>23.401370</td>\n",
       "    </tr>\n",
       "    <tr>\n",
       "      <th>2013-09-13</th>\n",
       "      <td>17082</td>\n",
       "      <td>8910.0</td>\n",
       "      <td>A e</td>\n",
       "      <td>2013</td>\n",
       "      <td>0.000059</td>\n",
       "      <td>46.802740</td>\n",
       "    </tr>\n",
       "  </tbody>\n",
       "</table>\n",
       "</div>"
      ],
      "text/plain": [
       "             rank  discharge flag  year  probability  return-years\n",
       "datetime                                                          \n",
       "2013-09-16  17078     3270.0  A e  2013     0.000293      9.360548\n",
       "2013-09-12  17079     3680.0    A  2013     0.000234     11.700685\n",
       "2013-09-15  17080     3970.0  A e  2013     0.000176     15.600913\n",
       "2013-09-14  17081     4970.0  A e  2013     0.000117     23.401370\n",
       "2013-09-13  17082     8910.0  A e  2013     0.000059     46.802740"
      ]
     },
     "execution_count": 36,
     "metadata": {},
     "output_type": "execute_result"
    }
   ],
   "source": [
    "longmont_prob = calculate_return(longmont_discharge, 'discharge')\n",
    "\n",
    "# Because the longmont_discharge data are daily convert return period to years\n",
    "longmont_prob['return-years'] = longmont_prob['return-years'] / 365\n",
    "longmont_prob['probability'] = longmont_prob['probability'] #* 365\n",
    "\n",
    "longmont_prob.tail()"
   ]
  },
  {
   "cell_type": "code",
   "execution_count": 37,
   "id": "alive-friend",
   "metadata": {},
   "outputs": [
    {
     "data": {
      "text/html": [
       "<div>\n",
       "<style scoped>\n",
       "    .dataframe tbody tr th:only-of-type {\n",
       "        vertical-align: middle;\n",
       "    }\n",
       "\n",
       "    .dataframe tbody tr th {\n",
       "        vertical-align: top;\n",
       "    }\n",
       "\n",
       "    .dataframe thead th {\n",
       "        text-align: right;\n",
       "    }\n",
       "</style>\n",
       "<table border=\"1\" class=\"dataframe\">\n",
       "  <thead>\n",
       "    <tr style=\"text-align: right;\">\n",
       "      <th></th>\n",
       "      <th>rank</th>\n",
       "      <th>discharge</th>\n",
       "      <th>year</th>\n",
       "      <th>probability</th>\n",
       "      <th>return-years</th>\n",
       "    </tr>\n",
       "  </thead>\n",
       "  <tbody>\n",
       "    <tr>\n",
       "      <th>count</th>\n",
       "      <td>17082.000000</td>\n",
       "      <td>17082.000000</td>\n",
       "      <td>17082.00000</td>\n",
       "      <td>17082.000000</td>\n",
       "      <td>17082.000000</td>\n",
       "    </tr>\n",
       "    <tr>\n",
       "      <th>mean</th>\n",
       "      <td>8541.500000</td>\n",
       "      <td>82.254666</td>\n",
       "      <td>1990.40370</td>\n",
       "      <td>0.500000</td>\n",
       "      <td>0.028284</td>\n",
       "    </tr>\n",
       "    <tr>\n",
       "      <th>std</th>\n",
       "      <td>4931.292985</td>\n",
       "      <td>176.278063</td>\n",
       "      <td>20.75699</td>\n",
       "      <td>0.288667</td>\n",
       "      <td>0.458412</td>\n",
       "    </tr>\n",
       "    <tr>\n",
       "      <th>min</th>\n",
       "      <td>1.000000</td>\n",
       "      <td>0.000000</td>\n",
       "      <td>1946.00000</td>\n",
       "      <td>0.000059</td>\n",
       "      <td>0.002740</td>\n",
       "    </tr>\n",
       "    <tr>\n",
       "      <th>25%</th>\n",
       "      <td>4271.250000</td>\n",
       "      <td>14.000000</td>\n",
       "      <td>1982.00000</td>\n",
       "      <td>0.250029</td>\n",
       "      <td>0.003653</td>\n",
       "    </tr>\n",
       "    <tr>\n",
       "      <th>50%</th>\n",
       "      <td>8541.500000</td>\n",
       "      <td>47.000000</td>\n",
       "      <td>1995.00000</td>\n",
       "      <td>0.500000</td>\n",
       "      <td>0.005479</td>\n",
       "    </tr>\n",
       "    <tr>\n",
       "      <th>75%</th>\n",
       "      <td>12811.750000</td>\n",
       "      <td>77.775000</td>\n",
       "      <td>2006.00000</td>\n",
       "      <td>0.749971</td>\n",
       "      <td>0.010958</td>\n",
       "    </tr>\n",
       "    <tr>\n",
       "      <th>max</th>\n",
       "      <td>17082.000000</td>\n",
       "      <td>8910.000000</td>\n",
       "      <td>2018.00000</td>\n",
       "      <td>0.999941</td>\n",
       "      <td>46.802740</td>\n",
       "    </tr>\n",
       "  </tbody>\n",
       "</table>\n",
       "</div>"
      ],
      "text/plain": [
       "               rank     discharge         year   probability  return-years\n",
       "count  17082.000000  17082.000000  17082.00000  17082.000000  17082.000000\n",
       "mean    8541.500000     82.254666   1990.40370      0.500000      0.028284\n",
       "std     4931.292985    176.278063     20.75699      0.288667      0.458412\n",
       "min        1.000000      0.000000   1946.00000      0.000059      0.002740\n",
       "25%     4271.250000     14.000000   1982.00000      0.250029      0.003653\n",
       "50%     8541.500000     47.000000   1995.00000      0.500000      0.005479\n",
       "75%    12811.750000     77.775000   2006.00000      0.749971      0.010958\n",
       "max    17082.000000   8910.000000   2018.00000      0.999941     46.802740"
      ]
     },
     "execution_count": 37,
     "metadata": {},
     "output_type": "execute_result"
    }
   ],
   "source": [
    "longmont_prob.describe()"
   ]
  },
  {
   "cell_type": "markdown",
   "id": "blocked-white",
   "metadata": {},
   "source": [
    "Calculate same thing using USGS annual max data"
   ]
  },
  {
   "cell_type": "code",
   "execution_count": 38,
   "id": "weekly-vault",
   "metadata": {},
   "outputs": [
    {
     "data": {
      "text/html": [
       "<div>\n",
       "<style scoped>\n",
       "    .dataframe tbody tr th:only-of-type {\n",
       "        vertical-align: middle;\n",
       "    }\n",
       "\n",
       "    .dataframe tbody tr th {\n",
       "        vertical-align: top;\n",
       "    }\n",
       "\n",
       "    .dataframe thead th {\n",
       "        text-align: right;\n",
       "    }\n",
       "</style>\n",
       "<table border=\"1\" class=\"dataframe\">\n",
       "  <thead>\n",
       "    <tr style=\"text-align: right;\">\n",
       "      <th></th>\n",
       "      <th>rank</th>\n",
       "      <th>peak_va</th>\n",
       "      <th>year</th>\n",
       "      <th>probability</th>\n",
       "      <th>return-years</th>\n",
       "    </tr>\n",
       "    <tr>\n",
       "      <th>peak_dt</th>\n",
       "      <th></th>\n",
       "      <th></th>\n",
       "      <th></th>\n",
       "      <th></th>\n",
       "      <th></th>\n",
       "    </tr>\n",
       "  </thead>\n",
       "  <tbody>\n",
       "    <tr>\n",
       "      <th>1954-01-14</th>\n",
       "      <td>1</td>\n",
       "      <td>26.0</td>\n",
       "      <td>1954</td>\n",
       "      <td>0.985294</td>\n",
       "      <td>1.014925</td>\n",
       "    </tr>\n",
       "    <tr>\n",
       "      <th>1932-07-13</th>\n",
       "      <td>2</td>\n",
       "      <td>128.0</td>\n",
       "      <td>1932</td>\n",
       "      <td>0.970588</td>\n",
       "      <td>1.030303</td>\n",
       "    </tr>\n",
       "    <tr>\n",
       "      <th>1940-07-03</th>\n",
       "      <td>3</td>\n",
       "      <td>174.0</td>\n",
       "      <td>1940</td>\n",
       "      <td>0.955882</td>\n",
       "      <td>1.046154</td>\n",
       "    </tr>\n",
       "    <tr>\n",
       "      <th>1946-07-19</th>\n",
       "      <td>4</td>\n",
       "      <td>178.0</td>\n",
       "      <td>1946</td>\n",
       "      <td>0.941176</td>\n",
       "      <td>1.062500</td>\n",
       "    </tr>\n",
       "    <tr>\n",
       "      <th>2002-05-24</th>\n",
       "      <td>5</td>\n",
       "      <td>238.0</td>\n",
       "      <td>2002</td>\n",
       "      <td>0.926471</td>\n",
       "      <td>1.079365</td>\n",
       "    </tr>\n",
       "  </tbody>\n",
       "</table>\n",
       "</div>"
      ],
      "text/plain": [
       "            rank  peak_va  year  probability  return-years\n",
       "peak_dt                                                   \n",
       "1954-01-14     1     26.0  1954     0.985294      1.014925\n",
       "1932-07-13     2    128.0  1932     0.970588      1.030303\n",
       "1940-07-03     3    174.0  1940     0.955882      1.046154\n",
       "1946-07-19     4    178.0  1946     0.941176      1.062500\n",
       "2002-05-24     5    238.0  2002     0.926471      1.079365"
      ]
     },
     "execution_count": 38,
     "metadata": {},
     "output_type": "execute_result"
    }
   ],
   "source": [
    "usgs_annual_prob = calculate_return(usgs_annual_max, 'peak_va')\n",
    "usgs_annual_prob.head()"
   ]
  },
  {
   "cell_type": "code",
   "execution_count": 39,
   "id": "about-means",
   "metadata": {},
   "outputs": [
    {
     "data": {
      "text/html": [
       "<div>\n",
       "<style scoped>\n",
       "    .dataframe tbody tr th:only-of-type {\n",
       "        vertical-align: middle;\n",
       "    }\n",
       "\n",
       "    .dataframe tbody tr th {\n",
       "        vertical-align: top;\n",
       "    }\n",
       "\n",
       "    .dataframe thead th {\n",
       "        text-align: right;\n",
       "    }\n",
       "</style>\n",
       "<table border=\"1\" class=\"dataframe\">\n",
       "  <thead>\n",
       "    <tr style=\"text-align: right;\">\n",
       "      <th></th>\n",
       "      <th>rank</th>\n",
       "      <th>peak_va</th>\n",
       "      <th>year</th>\n",
       "      <th>probability</th>\n",
       "      <th>return-years</th>\n",
       "    </tr>\n",
       "  </thead>\n",
       "  <tbody>\n",
       "    <tr>\n",
       "      <th>count</th>\n",
       "      <td>67.000000</td>\n",
       "      <td>67.000000</td>\n",
       "      <td>67.000000</td>\n",
       "      <td>67.000000</td>\n",
       "      <td>67.000000</td>\n",
       "    </tr>\n",
       "    <tr>\n",
       "      <th>mean</th>\n",
       "      <td>34.000000</td>\n",
       "      <td>1066.253731</td>\n",
       "      <td>1975.895522</td>\n",
       "      <td>0.500000</td>\n",
       "      <td>4.860835</td>\n",
       "    </tr>\n",
       "    <tr>\n",
       "      <th>std</th>\n",
       "      <td>19.485037</td>\n",
       "      <td>1209.138277</td>\n",
       "      <td>31.360627</td>\n",
       "      <td>0.286545</td>\n",
       "      <td>9.498497</td>\n",
       "    </tr>\n",
       "    <tr>\n",
       "      <th>min</th>\n",
       "      <td>1.000000</td>\n",
       "      <td>26.000000</td>\n",
       "      <td>1927.000000</td>\n",
       "      <td>0.014706</td>\n",
       "      <td>1.014925</td>\n",
       "    </tr>\n",
       "    <tr>\n",
       "      <th>25%</th>\n",
       "      <td>17.500000</td>\n",
       "      <td>478.000000</td>\n",
       "      <td>1943.500000</td>\n",
       "      <td>0.257353</td>\n",
       "      <td>1.346667</td>\n",
       "    </tr>\n",
       "    <tr>\n",
       "      <th>50%</th>\n",
       "      <td>34.000000</td>\n",
       "      <td>702.000000</td>\n",
       "      <td>1985.000000</td>\n",
       "      <td>0.500000</td>\n",
       "      <td>2.000000</td>\n",
       "    </tr>\n",
       "    <tr>\n",
       "      <th>75%</th>\n",
       "      <td>50.500000</td>\n",
       "      <td>1350.000000</td>\n",
       "      <td>2003.500000</td>\n",
       "      <td>0.742647</td>\n",
       "      <td>3.888889</td>\n",
       "    </tr>\n",
       "    <tr>\n",
       "      <th>max</th>\n",
       "      <td>67.000000</td>\n",
       "      <td>8910.000000</td>\n",
       "      <td>2020.000000</td>\n",
       "      <td>0.985294</td>\n",
       "      <td>68.000000</td>\n",
       "    </tr>\n",
       "  </tbody>\n",
       "</table>\n",
       "</div>"
      ],
      "text/plain": [
       "            rank      peak_va         year  probability  return-years\n",
       "count  67.000000    67.000000    67.000000    67.000000     67.000000\n",
       "mean   34.000000  1066.253731  1975.895522     0.500000      4.860835\n",
       "std    19.485037  1209.138277    31.360627     0.286545      9.498497\n",
       "min     1.000000    26.000000  1927.000000     0.014706      1.014925\n",
       "25%    17.500000   478.000000  1943.500000     0.257353      1.346667\n",
       "50%    34.000000   702.000000  1985.000000     0.500000      2.000000\n",
       "75%    50.500000  1350.000000  2003.500000     0.742647      3.888889\n",
       "max    67.000000  8910.000000  2020.000000     0.985294     68.000000"
      ]
     },
     "execution_count": 39,
     "metadata": {},
     "output_type": "execute_result"
    }
   ],
   "source": [
    "usgs_annual_prob.describe()"
   ]
  },
  {
   "cell_type": "code",
   "execution_count": 40,
   "id": "multiple-poverty",
   "metadata": {},
   "outputs": [
    {
     "data": {
      "image/png": "[encoded data removed]",
      "text/plain": [
       "<Figure size 864x864 with 1 Axes>"
      ]
     },
     "metadata": {},
     "output_type": "display_data"
    }
   ],
   "source": [
    "f, ax = plt.subplots(figsize = (12,12))\n",
    "\n",
    "usgs_annual_prob.plot.scatter(x='peak_va',\n",
    "                              y='probability',\n",
    "                              title='Probabiliy',\n",
    "                              ax=ax,\n",
    "                              color='coral',\n",
    "                              fontsize=16,\n",
    "                              logy=True,\n",
    "                              label='USGS Annual Max Calculated')\n",
    "longmont_prob.plot.scatter(x='discharge',\n",
    "                           y='probability',\n",
    "                           title='Probability',\n",
    "                           ax=ax,\n",
    "                           color='teal',\n",
    "                           fontsize=16,\n",
    "                           logy=True,\n",
    "                           label='Daily Mean Calcuated')\n",
    "\n",
    "ax.legend(frameon=True, framealpha=1)\n",
    "\n",
    "ax.set_ylabel('Probability')\n",
    "ax.set_xlabel('Discharge Value (CFS)')\n",
    "ax.set_title('Probability of Discharge Events')\n",
    "\n",
    "plt.show()"
   ]
  },
  {
   "cell_type": "markdown",
   "id": "voluntary-arkansas",
   "metadata": {},
   "source": [
    "#### Plot Stream Discharge Return Period"
   ]
  },
  {
   "cell_type": "code",
   "execution_count": 50,
   "id": "supreme-group",
   "metadata": {},
   "outputs": [
    {
     "data": {
      "image/png": "[encoded data removed]",
      "text/plain": [
       "<Figure size 864x432 with 1 Axes>"
      ]
     },
     "metadata": {},
     "output_type": "display_data"
    }
   ],
   "source": [
    "f, ax = plt.subplots(figsize=(12,6))\n",
    "\n",
    "ax.scatter(longmont_prob['return-years'],\n",
    "           longmont_prob['discharge'],\n",
    "           color='purple',\n",
    "           label='Daily Mean Calculated')\n",
    "ax.scatter(usgs_annual_prob['return-years'],\n",
    "           usgs_annual_prob['peak_va'],\n",
    "           color='green',\n",
    "           label='USGS Annual Max')\n",
    "ax.set(xlabel='Return Period (years)',\n",
    "       ylabel='Discharge Max (cuF/s)',\n",
    "       title='Daily Mean Calculated')\n",
    "ax.legend(frameon=True, framealpha=1)\n",
    "plt.show()"
   ]
  }
 ],
 "metadata": {
  "kernelspec": {
   "display_name": "Python 3",
   "language": "python",
   "name": "python3"
  },
  "language_info": {
   "codemirror_mode": {
    "name": "ipython",
    "version": 3
   },
   "file_extension": ".py",
   "mimetype": "text/x-python",
   "name": "python",
   "nbconvert_exporter": "python",
   "pygments_lexer": "ipython3",
   "version": "3.8.6"
  }
 },
 "nbformat": 4,
 "nbformat_minor": 5
}
